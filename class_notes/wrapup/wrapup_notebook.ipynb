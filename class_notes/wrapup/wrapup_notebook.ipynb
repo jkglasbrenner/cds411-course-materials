{
 "cells": [
  {
   "cell_type": "markdown",
   "metadata": {},
   "source": [
    "![CDS 411 logo](../../img/cds-411-logo.png)\n",
    "\n",
    "# Course wrap-up\n",
    "\n",
    "---\n",
    "\n",
    "![CC BY-SA 4.0 license](../../img/cc-by-sa.png)\n",
    "\n",
    "This notebook is licensed under a [Creative Commons Attribution-ShareAlike 4.0 International License](http://creativecommons.org/licenses/by-sa/4.0/)."
   ]
  },
  {
   "cell_type": "markdown",
   "metadata": {},
   "source": [
    "## What you've learned (in a nutshell)"
   ]
  },
  {
   "cell_type": "markdown",
   "metadata": {},
   "source": [
    "### Modern python and its libraries\n",
    "\n",
    "*   There was an emphasis on learning what \"Pythonic\" code looks like and how to write code that looks similar to the \"best practices\" followed in industry.\n",
    "\n",
    "*   There was an emphasis on using `numpy` to speed up and optimize your code whenever possible.\n",
    "\n",
    "*   There was an emphasis on using `pandas` to store and manipulate your data whenever possible.\n",
    "\n",
    "*   There was an emphasis on making extensive use of `matplotlib` and `seaborn` to explore and analyze your data.\n",
    "\n",
    "*   Examples of advanced usage: animations, widget-based dashboards"
   ]
  },
  {
   "cell_type": "markdown",
   "metadata": {},
   "source": [
    "### Rule-based models\n",
    "\n",
    "*   System dynamics are good when you want a big picture overview of how a time-dependent system behaves, but you don't necessary understand or know the underlying microscopic processes. Can also be used in combination with more sophisticated simulations that **do** include microscopic mechanisms. Provides a reasonable way to interpret what is going on or to get a feel for how a microscopic model should behave in certain limiting cases.\n",
    "\n",
    "*   Cellular automata and their popular cousin agent-based modeling provides a way to model microscopic mechanisms. In some cases, the microscopic mechanisms can give way to macroscopic behavior that you observe in simpler models. Other times, there are simulation regimes that behave in new and expected ways.\n",
    "\n",
    "*   Rule-based simulations composed of many individual actors or particles can give rise to emergent phenomena, whereby new collective behaviors that are not \"allowed\" in the individual rules start to come about.\n",
    "\n",
    "*   You understand the basic data structures that are used to represent these systems, and have an idea how you could modify them, and perhaps even implement your own from scratch!"
   ]
  },
  {
   "cell_type": "markdown",
   "metadata": {},
   "source": [
    "### Data-driven models\n",
    "\n",
    "*   We learned how to use statistical ideas like cross-validation and resampling as part of a model selection procedure.\n",
    "\n",
    "*   Being able to compare and rank models is very useful in quantitative studies, and the methods we learned are general in comparison to central-limit theorem based methods.\n",
    "\n",
    "*   We saw examples of how we can employ data-driven models and techniques when analyzing the results of a rule-based simulation.\n",
    "\n",
    "*   We were introduced to the Python package `scikit-learn` and made ample use of pandas `DataFrame`s, both of which are cornerstones of data science with Python."
   ]
  },
  {
   "cell_type": "markdown",
   "metadata": {},
   "source": [
    "## sPyns: My own Python-based simulator of spin systems"
   ]
  },
  {
   "cell_type": "markdown",
   "metadata": {},
   "source": [
    "GitHub link: https://github.com/jkglasbrenner/spyns"
   ]
  },
  {
   "cell_type": "markdown",
   "metadata": {},
   "source": [
    "*   A general framework for spin-based models and simulations. Examples of spin-based models include the Ising model, the Heisenberg model, voter models, and friends\n",
    "\n",
    "*   Current implementation is for periodic lattice systems, but extending it to work on networks will be straightforward and is planned.\n",
    "\n",
    "*   These types of models are useful in many scientific disciplines, including condensed matter physics, materials science, and social science.\n",
    "\n",
    "*   Under heavy development and the user interface will be changing significantly over the next couple of months, so it's not ready for \"production\" use, but it's starting to move in that direction. The code is being optimized with Cython as part of this process.\n",
    "\n",
    "*   Documentation is currently non-existent aside from the function docstrings. This will change as the user interface stabilizes.\n",
    "\n",
    "*   If you find a need for this kind of model, keep an eye on it and contact me regarding what you want to do. Similarly, if a friend/colleague mentions needing it, link them to it!"
   ]
  },
  {
   "cell_type": "markdown",
   "metadata": {},
   "source": [
    "## Helpful resources to continue learning"
   ]
  },
  {
   "cell_type": "markdown",
   "metadata": {},
   "source": [
    "**Think Complexity** by Allen Downey: http://greenteapress.com/wp/think-complexity-2e/"
   ]
  },
  {
   "cell_type": "markdown",
   "metadata": {},
   "source": [
    "Some cool examples: https://nbviewer.jupyter.org/github/AllenDowney/ThinkComplexity2/tree/master/code/\n",
    "\n",
    "*   Agent-Based Models: https://nbviewer.jupyter.org/github/AllenDowney/ThinkComplexity2/blob/master/code/chap09soln.ipynb\n",
    "\n",
    "*   Herds, flocks, and traffic jams: https://nbviewer.jupyter.org/github/AllenDowney/ThinkComplexity2/blob/master/code/chap10soln.ipynb"
   ]
  },
  {
   "cell_type": "markdown",
   "metadata": {},
   "source": [
    "**Modeling and Simulation in Python** by Allen Downey: http://greenteapress.com/wp/modsimpy/"
   ]
  },
  {
   "cell_type": "markdown",
   "metadata": {},
   "source": [
    "Interactive notebooks: https://mybinder.org/v2/gh/AllenDowney/ModSimPy/master"
   ]
  },
  {
   "cell_type": "markdown",
   "metadata": {},
   "source": [
    "**Data Science from Scratch** by Joel Grus: http://a.co/d/0BMoCDb"
   ]
  },
  {
   "cell_type": "markdown",
   "metadata": {},
   "source": [
    "This book isn't free, but it's an excellent resource for understanding how the many methods found in Data Science are implemented and work. The book is currently being revised for a 2nd edition, which will be based on Python 3.6, so it's worth waiting for that to be released.0W"
   ]
  },
  {
   "cell_type": "markdown",
   "metadata": {},
   "source": [
    "**Machine Learning: An Algorithmic Perspective** by Stephen Marsland: http://a.co/d/0ZoAdF3\n",
    "\n",
    "If **Data Science from Scratch** is too simple for you, then this is the advanced version. This resource steps through how to implement machine learning algorithms in Python and provides many examples of how to use these algorithms along the way. "
   ]
  }
 ],
 "metadata": {
  "kernelspec": {
   "display_name": "Python 3",
   "language": "python",
   "name": "python3"
  },
  "language_info": {
   "codemirror_mode": {
    "name": "ipython",
    "version": 3
   },
   "file_extension": ".py",
   "mimetype": "text/x-python",
   "name": "python",
   "nbconvert_exporter": "python",
   "pygments_lexer": "ipython3",
   "version": "3.6.5"
  }
 },
 "nbformat": 4,
 "nbformat_minor": 2
}
