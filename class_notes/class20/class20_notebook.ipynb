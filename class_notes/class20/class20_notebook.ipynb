{
 "cells": [
  {
   "cell_type": "markdown",
   "metadata": {},
   "source": [
    "![CDS 411 logo](../../img/cds-411-logo.png)\n",
    "\n",
    "# Class 20: Monte Carlo simulations III\n",
    "\n",
    "---\n",
    "\n",
    "![CC BY-SA 4.0 license](../../img/cc-by-sa.png)\n",
    "\n",
    "This notebook is licensed under a [Creative Commons Attribution-ShareAlike 4.0 International License](http://creativecommons.org/licenses/by-sa/4.0/)."
   ]
  },
  {
   "cell_type": "markdown",
   "metadata": {},
   "source": [
    "## Load packages"
   ]
  },
  {
   "cell_type": "code",
   "execution_count": 1,
   "metadata": {},
   "outputs": [],
   "source": [
    "%matplotlib inline\n",
    "\n",
    "from pathlib import Path\n",
    "\n",
    "import matplotlib.pyplot as plt\n",
    "from matplotlib import animation, rc\n",
    "import numpy as np\n",
    "import pandas as pd\n",
    "import seaborn as sns\n",
    "import scipy\n",
    "from IPython.display import HTML\n",
    "\n",
    "rc(\"animation\", html=\"html5\")\n",
    "\n",
    "np.random.seed(686500035)"
   ]
  },
  {
   "cell_type": "markdown",
   "metadata": {},
   "source": [
    "# Random numbers from various distributions"
   ]
  },
  {
   "cell_type": "markdown",
   "metadata": {},
   "source": [
    "## Definitions"
   ]
  },
  {
   "cell_type": "markdown",
   "metadata": {},
   "source": [
    "### Distribution of numbers\n",
    "\n",
    "A **distribution** of numbers is a description of portion of times each possible outcome or each possible range of outcomes occurs on the average."
   ]
  },
  {
   "cell_type": "markdown",
   "metadata": {},
   "source": [
    "### Discrete distribution\n",
    "\n",
    "A **discrete distribution** is a distribution with discrete values."
   ]
  },
  {
   "cell_type": "markdown",
   "metadata": {},
   "source": [
    "### Continuous distribution\n",
    "\n",
    "A **continuous distribution** is a distribution with continuous values."
   ]
  },
  {
   "cell_type": "markdown",
   "metadata": {},
   "source": [
    "### Probability function\n",
    "\n",
    "*   For a discrete distribution, a **probability function** (or **density function** or **probability density function**) returns the probability of occurrence of a particular argument.\n",
    "\n",
    "*   For a continuous distribution, a **probability function** (or **density function** or **probability density function**) indicates the probability that a given outcome falls inside a specific range of values."
   ]
  },
  {
   "cell_type": "markdown",
   "metadata": {},
   "source": [
    "#### To Generate Random Numbers in Discrete Distribution with Equal Probabilities for Each of *n* Events\n",
    "\n",
    "Generate a uniform random integer from a sequence of *n* integers, where each integer corresponds to an event."
   ]
  },
  {
   "cell_type": "markdown",
   "metadata": {},
   "source": [
    "## Uniform distribution"
   ]
  },
  {
   "cell_type": "markdown",
   "metadata": {},
   "source": [
    "*   Just as likely to return value in any interval\n",
    "\n",
    "*   In list of many random numbers, on the average each interval contains same number of generated values"
   ]
  },
  {
   "cell_type": "markdown",
   "metadata": {},
   "source": [
    "### Using `numpy`\n",
    "\n",
    "There are two methods available in `numpy` for sampling integers from a uniform distribution.\n",
    "There is `np.random.randint`, which let's you specify the integer range directly, and works like so:"
   ]
  },
  {
   "cell_type": "code",
   "execution_count": 2,
   "metadata": {},
   "outputs": [
    {
     "data": {
      "text/plain": [
       "array([4, 3, 1, 1, 2, 4, 1, 1, 3, 1])"
      ]
     },
     "execution_count": 2,
     "metadata": {},
     "output_type": "execute_result"
    }
   ],
   "source": [
    "np.random.randint(low=1, high=5, size=10)"
   ]
  },
  {
   "cell_type": "markdown",
   "metadata": {},
   "source": [
    "And then there's `np.random.choice`, which is more general and allows you to randomly sample from an array-like list.\n",
    "To replicate the above behavior, you would use the following inputs like so:"
   ]
  },
  {
   "cell_type": "code",
   "execution_count": 3,
   "metadata": {},
   "outputs": [
    {
     "data": {
      "text/plain": [
       "array([4, 2, 1, 3, 4, 4, 2, 2, 2, 2])"
      ]
     },
     "execution_count": 3,
     "metadata": {},
     "output_type": "execute_result"
    }
   ],
   "source": [
    "np.random.choice(a=[1, 2, 3, 4], size=10, replace=True, p=None)"
   ]
  },
  {
   "cell_type": "markdown",
   "metadata": {},
   "source": [
    "## Non-uniform discrete distributions "
   ]
  },
  {
   "cell_type": "markdown",
   "metadata": {},
   "source": [
    "### Manual method\n",
    "    \n",
    "*   **To generate random numbers in discrete distribution with probabilities** $p_{1}, p_{2}, \\ldots, p_{n}$ **for events** $e_{1}, e_{2}, \\ldots, e_{n}$, **respectively, where** $p_{1} + p_{2} + \\ldots + p_{n} = 1$\n",
    "\n",
    "    Generate `rand`, uniform random floating point number in `[0, 1)`  \n",
    "    If `rand` < $p_{1}$, then return $e_{1}$  \n",
    "    else if `rand` < $p_{1} + p_{2}$, then return $e_{2}$  \n",
    "    ...  \n",
    "    else if `rand` < $p_{1} + p_{2} + \\ldots + p_{n} - 1$, then return $e_{n} - 1$  \n",
    "    else return $e_{n}$\n",
    "    \n",
    "As an example, consider the sample distribution `[1, 2, 3, 4]` where value `1` has weight `0.10`, value `2` has weight `0.30`, value `3` has weight `0.40`, and value `4` has weight `0.20`.\n",
    "Following the approach recipe, this results in the following Python code:"
   ]
  },
  {
   "cell_type": "code",
   "execution_count": 4,
   "metadata": {},
   "outputs": [
    {
     "name": "stdout",
     "output_type": "stream",
     "text": [
      "3\n"
     ]
    }
   ],
   "source": [
    "x = None\n",
    "rand = np.random.uniform()\n",
    "p = {\n",
    "    1: 0.10,\n",
    "    2: 0.30,\n",
    "    3: 0.40,\n",
    "    4: 0.20\n",
    "}\n",
    "\n",
    "if rand < p[1]:\n",
    "    x = 1\n",
    "elif rand < p[1] + p[2]:\n",
    "    x = 2\n",
    "elif rand < p[1] + p[2] + p[3]:\n",
    "    x = 3\n",
    "else:\n",
    "    x = 4\n",
    "    \n",
    "print(x)"
   ]
  },
  {
   "cell_type": "markdown",
   "metadata": {},
   "source": [
    "### Using `numpy`\n",
    "\n",
    "A general approach to the discrete distribution again uses `np.random.choice`.\n",
    "The different weights for different values are specified using the input parameter `p`.\n",
    "To replicate the prior example, you would use the following inputs:"
   ]
  },
  {
   "cell_type": "code",
   "execution_count": 5,
   "metadata": {},
   "outputs": [
    {
     "data": {
      "text/plain": [
       "array([3, 3, 2, 4, 4, 3, 3, 3, 1, 4, 2, 3, 2, 2, 3, 3, 3, 3, 2, 3, 3, 3,\n",
       "       3, 3, 3, 3, 4, 2, 2, 2, 2, 4, 4, 2, 3, 4, 3, 2, 3, 4, 3, 3, 3, 1,\n",
       "       3, 3, 4, 3, 3, 3, 4, 3, 3, 3, 2, 1, 2, 2, 2, 3, 4, 2, 3, 2, 2, 3,\n",
       "       4, 4, 1, 4, 3, 2, 3, 2, 3, 3, 3, 4, 2, 4, 3, 3, 2, 1, 1, 4, 3, 4,\n",
       "       2, 1, 2, 3, 4, 3, 2, 3, 2, 4, 4, 2])"
      ]
     },
     "execution_count": 5,
     "metadata": {},
     "output_type": "execute_result"
    }
   ],
   "source": [
    "np.random.choice([1, 2, 3, 4], size=100, p=[0.10, 0.30, 0.40, 0.20])"
   ]
  },
  {
   "cell_type": "markdown",
   "metadata": {},
   "source": [
    "## Continuous distributions"
   ]
  },
  {
   "cell_type": "markdown",
   "metadata": {},
   "source": [
    "### Normal or Gaussian distribution\n",
    "\n",
    "Probability density function, where \\\\(\\mu\\\\) is mean and \\\\(\\sigma\\\\) is standard deviation:\n",
    "\n",
    "\\begin{equation}\n",
    "\\dfrac{1}{\\sqrt{2\\pi{}\\sigma{}}}e^{-(x-\\mu{})^{2}/(2\\sigma{})}\n",
    "\\end{equation}"
   ]
  },
  {
   "cell_type": "code",
   "execution_count": 6,
   "metadata": {},
   "outputs": [],
   "source": [
    "mean_norm = 0\n",
    "sd_norm = 1\n",
    "x_norm = np.linspace(-3, 3, 200)\n",
    "normal_df = pd.DataFrame({\n",
    "    \"x\": x_norm,\n",
    "    \"y\": (\n",
    "        (1 / np.sqrt(2 * np.pi * sd_norm)) *\n",
    "        np.exp(-(x_norm - mean_norm)**2 /(2 * sd_norm))\n",
    "    )\n",
    "})"
   ]
  },
  {
   "cell_type": "code",
   "execution_count": 7,
   "metadata": {},
   "outputs": [
    {
     "data": {
      "image/png": "[encoded data removed]",
      "text/plain": [
       "<Figure size 720x480 with 1 Axes>"
      ]
     },
     "metadata": {
      "needs_background": "light"
     },
     "output_type": "display_data"
    }
   ],
   "source": [
    "fig, ax = plt.subplots(dpi=120);\n",
    "sns.lineplot(x=\"x\", y=\"y\", data=normal_df, ax=ax)\n",
    "ax.set_title(\"Probability density function for normal distribution with \"\n",
    "             \"mean 0 and standard deviation 1\")\n",
    "ax.set_xlabel(\"x\")\n",
    "ax.set_ylabel(\"y\")\n",
    "ax.set_xlim([-3, 3])\n",
    "ax.set_ylim([0, 0.4]);"
   ]
  },
  {
   "cell_type": "markdown",
   "metadata": {},
   "source": [
    "#### Box-Muller-Gauss Method"
   ]
  },
  {
   "cell_type": "markdown",
   "metadata": {},
   "source": [
    "*   For normal distribution with mean µ and standard deviation σ\n",
    "\n",
    "    *   Compute \\\\(b \\sin(a) + \\mu\\\\) and \\\\(b \\cos(a) + \\mu\\\\) where \n",
    "        \n",
    "        a = uniform random number in [0, 2π)  \n",
    "        rand = uniform random number in [0, 1)  \n",
    "        b = \\\\(\\sigma \\sqrt{- \\ln(\\texttt{rand})}\\\\)\n",
    "\n",
    "Note that this means the *Box-Muller-Gauss method* outputs two random numbers, which is reasonable, since we need to provide two random numbers as inputs."
   ]
  },
  {
   "cell_type": "markdown",
   "metadata": {},
   "source": [
    "As an example, let's compute two samples from the standard normal distribution via the *Box-Muller-Gauss method*:"
   ]
  },
  {
   "cell_type": "code",
   "execution_count": 8,
   "metadata": {},
   "outputs": [
    {
     "name": "stdout",
     "output_type": "stream",
     "text": [
      "random numbers = (-0.17825456071289894, 0.4784854000293813)\n"
     ]
    }
   ],
   "source": [
    "a = 2 * np.pi * np.random.uniform()\n",
    "b = 1 * np.sqrt(- np.log(np.random.uniform()))\n",
    "rand1 = b * np.sin(a)\n",
    "rand2 = b * np.cos(a)\n",
    "print(\"random numbers =\", tuple((rand1, rand2)))"
   ]
  },
  {
   "cell_type": "code",
   "execution_count": 9,
   "metadata": {},
   "outputs": [
    {
     "data": {
      "text/plain": [
       "-0.17825456071289894"
      ]
     },
     "execution_count": 9,
     "metadata": {},
     "output_type": "execute_result"
    }
   ],
   "source": [
    "b * np.sin(a)"
   ]
  },
  {
   "cell_type": "code",
   "execution_count": 10,
   "metadata": {},
   "outputs": [
    {
     "data": {
      "text/plain": [
       "0.4784854000293813"
      ]
     },
     "execution_count": 10,
     "metadata": {},
     "output_type": "execute_result"
    }
   ],
   "source": [
    "b * np.cos(a)"
   ]
  },
  {
   "cell_type": "markdown",
   "metadata": {},
   "source": [
    "### How to generate a distribution's random numbers from a probability distribution function"
   ]
  },
  {
   "cell_type": "markdown",
   "metadata": {},
   "source": [
    "You might be wondering how to derive the *Box-Muller-Gauss method* for sampling from a normal distribution.\n",
    "Obtaining this formula, along with similar expressions for other functions, follows a standard recipe.\n",
    "The requirement is that you are starting with a formula for the probability distribution function (PDF).\n",
    "If you have that, then you can do the following:"
   ]
  },
  {
   "cell_type": "markdown",
   "metadata": {},
   "source": [
    "<ol>\n",
    "  <li>\n",
    "  Assume that we have a continuous $\\texttt{PDF}(x)$ function defined for the range $[a, b]$.\n",
    "  Find the cumulative distribution function (CDF), which maps distribution values to their percentile rank, by integrating the PDF like so:\n",
    "\n",
    "  $$\\texttt{CDF}(x) = \\int_{-a}^{x} \\texttt{PDF}(x') dx'$$\n",
    "\n",
    "  where $a \\leq x \\leq b$.\n",
    "  </li>\n",
    "</ol>"
   ]
  },
  {
   "cell_type": "markdown",
   "metadata": {},
   "source": [
    "<ol>\n",
    "  <li value=\"2\">\n",
    "  The outputs of *any* CDF function, regardless of the initial PDF or the range of $x$, are uniformly distributed in the range $[0, 1]$:\n",
    "\n",
    "  $$0 \\leq \\texttt{CDF}(x) \\leq 1$$\n",
    "    \n",
    "  This follows from 10% of the distribution existing below the 10th percentile, 20% of the distribution existing below the 20th percentile, and so on.\n",
    "  Thus, we can sample the $\\texttt{CDF}(x)$ outputs by generating a series of uniform random numbers `rand` between 0 and 1.\n",
    "  </li>\n",
    "</ol>"
   ]
  },
  {
   "cell_type": "markdown",
   "metadata": {},
   "source": [
    "<ol>\n",
    "  <li value=\"3\">\n",
    "  Once we have our uniform random number $\\texttt{CDF}(x)$, we then need to solve the following expression for $x$:\n",
    "\n",
    "  $$\\texttt{rand} = \\texttt{CDF}(x)$$\n",
    "\n",
    "  This involves inverting the $\\texttt{CDF}(x)$ expression, which may or may not have an analytic form.\n",
    "  If it does, then we will have an expression for $x$ that depends on constants and the random number `rand` only, like so:\n",
    "\n",
    "  $$x_{\\text{random}} = \\texttt{CDF}^{-1}(\\texttt{rand})$$\n",
    "\n",
    "  Note that $\\texttt{CDF}^{-1}$ indicates the inverse, not the reciprocal.\n",
    "  This allows us to draw directly from the distribution defined by the $\\texttt{PDF}(x)$.\n",
    "  </li>\n",
    "</ol>"
   ]
  },
  {
   "cell_type": "markdown",
   "metadata": {},
   "source": [
    "For example, imagine that we have $\\texttt{PDF}(x) = 3 x^{2}$ over the range $[0, 1]$.\n",
    "We can sample from this distribution by first calculating the CDF:\n",
    "\n",
    "\\begin{equation}\n",
    "\\texttt{CDF}(x)=\\int_{0}^{x}3x'^{2}dx'\n",
    "\\end{equation}\n",
    "\\begin{equation}\n",
    "=x^{3}\n",
    "\\end{equation}\n",
    "\n",
    "Now, we introduce `rand` and invert the $\\texttt{CDF}(x)$ expression:\n",
    "\n",
    "$$x_{\\text{random}} = \\left(\\texttt{rand}\\right)^{1/3}$$\n",
    "\n",
    "So, to sample from the distribution $\\texttt{PDF}(x) = 3 x^{2}$ defined in the range $[0, 1]$, we need to generate a uniform random number between 0 and 1, and then take the cube root."
   ]
  },
  {
   "cell_type": "code",
   "execution_count": 11,
   "metadata": {},
   "outputs": [],
   "source": [
    "x_example = np.random.uniform(size=100000)**(1/3)\n",
    "x_df = pd.DataFrame({\"x\": x_example})"
   ]
  },
  {
   "cell_type": "code",
   "execution_count": 12,
   "metadata": {},
   "outputs": [
    {
     "data": {
      "image/png": "[encoded data removed]",
      "text/plain": [
       "<Figure size 720x480 with 1 Axes>"
      ]
     },
     "metadata": {
      "needs_background": "light"
     },
     "output_type": "display_data"
    }
   ],
   "source": [
    "fig, ax = plt.subplots(dpi=120)\n",
    "sns.distplot(a=x_df[\"x\"], bins=50, kde=False, ax=ax, hist_kws={\"alpha\": 1})\n",
    "ax.set_xlabel(\"x\")\n",
    "ax.set_ylabel(\"count\")\n",
    "ax.set_title(r\"Samples from the distribution $f(x)=3x^2$\");"
   ]
  },
  {
   "cell_type": "markdown",
   "metadata": {},
   "source": [
    "# Random Walk"
   ]
  },
  {
   "cell_type": "markdown",
   "metadata": {},
   "source": [
    "## Introduction"
   ]
  },
  {
   "cell_type": "markdown",
   "metadata": {},
   "source": [
    "**Random walk** refers to the apparently random movement of an entity.\n",
    "\n",
    "*   An entity lives on a cell in a rectangular grid.\n",
    "\n",
    "*   At each time step, the entity can step onto a neighboring cell\n",
    "\n",
    "*   The step direction is chosen using a random number generator\n",
    "\n",
    "*   There can be constraints on how probable each step direction is"
   ]
  },
  {
   "cell_type": "markdown",
   "metadata": {},
   "source": [
    "## Cellular automata"
   ]
  },
  {
   "cell_type": "markdown",
   "metadata": {},
   "source": [
    "*   **Ceullular automata** are one style of computer simulation that involves movement on a grid.\n",
    "\n",
    "*   These are computational models that are discrete in space, state, and time.\n",
    "\n",
    "*   Structure of a cellular automata simulation\n",
    "\n",
    "    *   Space is built as a one-, two-, or three-dimensional **grid**.\n",
    "    \n",
    "    *   A **site**, or **cell**, of the grid has a state, and the number of states is finite\n",
    "    \n",
    "    *   There are **rules**, or **transition rules**, specifying local relationships and indicating how cells are to change state and regulate the behavior of the system"
   ]
  },
  {
   "cell_type": "code",
   "execution_count": 13,
   "metadata": {},
   "outputs": [],
   "source": [
    "initial_state = np.random.randint(low=0, high=2, size=100)\n",
    "nine_states = [np.random.choice(a=initial_state, size=(10, 10), replace=False)\n",
    "               for _ in np.arange(9)]"
   ]
  },
  {
   "cell_type": "code",
   "execution_count": 14,
   "metadata": {},
   "outputs": [],
   "source": [
    "def draw_heatmap(*args, **kwargs):\n",
    "    data = kwargs.pop('data')\n",
    "    sns.heatmap(data[\"state\"].values[0], **kwargs)"
   ]
  },
  {
   "cell_type": "code",
   "execution_count": 15,
   "metadata": {},
   "outputs": [
    {
     "data": {
      "image/png": "[encoded data removed]",
      "text/plain": [
       "<Figure size 720x720 with 9 Axes>"
      ]
     },
     "metadata": {},
     "output_type": "display_data"
    }
   ],
   "source": [
    "nine_states_df = pd.DataFrame({\n",
    "    \"Configuration\": [f\"{n}\" for n in range(1, 10)],\n",
    "    \"state\": nine_states,\n",
    "})\n",
    "g = sns.FacetGrid(\n",
    "    nine_states_df,\n",
    "    col=\"Configuration\",\n",
    "    col_wrap=3,\n",
    "    col_order=[f\"{n}\" for n in range(1, 10)],\n",
    ")\n",
    "g.map_dataframe(draw_heatmap, xticklabels=False, yticklabels=False,\n",
    "                cmap=\"YlGnBu\", cbar=False, square=True,\n",
    "                linewidths=1, linecolor='tab:gray')\n",
    "\n",
    "g.fig.set_dpi(120)\n",
    "g.fig.set_size_inches(6, 6)\n",
    "plt.tight_layout();"
   ]
  },
  {
   "cell_type": "markdown",
   "metadata": {},
   "source": [
    "## Defining the Random Walk\n",
    "\n",
    "*   We will consider a random walker that can move in one of four directions, NE, NW, SE, SW\n",
    "*   For each step, we need to generate two random numbers, each of which is either 1 or -1\n",
    "*   The pair of numbers corresponds to the four directions:\n",
    "    *   NE step: $(1, 1)$\n",
    "    *   NW step: $(-1, 1)$\n",
    "    *   SE step: $(1, -1)$\n",
    "    *   SW step: $(-1, -1)$"
   ]
  },
  {
   "cell_type": "markdown",
   "metadata": {},
   "source": [
    "## Algorithm for the Random Walk\n",
    "\n",
    "1.  Select the number of steps `n` for the simulation\n",
    "2.  Initialize the walker's position at the origin $(x, y) = (0, 0)$\n",
    "3.  Initialize a list to store the walker's history, put in the origin as the first entry\n",
    "4.  Do the following `n` times:\n",
    "\n",
    "        rand <- a random 0 or 1\n",
    "        if rand is 0\n",
    "          increment x by 1\n",
    "        else\n",
    "          decrement x by 1\n",
    "        rand <- a random 0 or 1\n",
    "        if rand is 0\n",
    "          increment y by 1\n",
    "        else\n",
    "          decrement y by 1\n",
    "        append point (x, y) onto end of walker's history\n",
    "    \n",
    "5.  Return the walker's history at the end of the walk"
   ]
  },
  {
   "cell_type": "markdown",
   "metadata": {},
   "source": [
    "## Code for Random Walk (based on pseudocode)\n",
    "\n",
    "First, we implement the Random Walk as specificed in the above pseudocode.\n",
    "The code is as follows:"
   ]
  },
  {
   "cell_type": "markdown",
   "metadata": {},
   "source": [
    "Choose the number of steps, initialize walker_x and walker_y, and initialize\n",
    "the walker history as an array of 3 columns and 101 rows (origin start + 100\n",
    "steps)"
   ]
  },
  {
   "cell_type": "code",
   "execution_count": 16,
   "metadata": {},
   "outputs": [],
   "source": [
    "nsteps = 100\n",
    "walker_x = 0\n",
    "walker_y = 0\n",
    "walker_history = np.zeros((101, 3))"
   ]
  },
  {
   "cell_type": "markdown",
   "metadata": {},
   "source": [
    "The first column in walker_history is the step number, which runs from 0 to 100."
   ]
  },
  {
   "cell_type": "code",
   "execution_count": 17,
   "metadata": {},
   "outputs": [],
   "source": [
    "walker_history[:, 0] = np.arange(start=0, stop=101, step=1)"
   ]
  },
  {
   "cell_type": "markdown",
   "metadata": {},
   "source": [
    "Simulate the walker's steps with a for loop"
   ]
  },
  {
   "cell_type": "code",
   "execution_count": 18,
   "metadata": {},
   "outputs": [],
   "source": [
    "for step_number in np.arange(start=1, stop=nsteps + 1, step=1):\n",
    "    # Generate the first random number rand for x coordinate\n",
    "    rand = np.random.randint(low=0, high=2)\n",
    "    # Conditional test\n",
    "    if rand == 0:\n",
    "        walker_x += 1\n",
    "    else:\n",
    "        walker_x -= 1\n",
    "\n",
    "    # Generate the second random number rand for y coordinate\n",
    "    rand = np.random.randint(low=0, high=2)\n",
    "    # Conditional test\n",
    "    if rand == 0:\n",
    "        walker_y += 1\n",
    "    else:\n",
    "        walker_y -= 1\n",
    "        \n",
    "    # Store the step in the history\n",
    "    walker_history[step_number, [1, 2]] = (walker_x, walker_y)"
   ]
  },
  {
   "cell_type": "markdown",
   "metadata": {},
   "source": [
    "Convert walker_history into a pandas DataFrame"
   ]
  },
  {
   "cell_type": "code",
   "execution_count": 19,
   "metadata": {},
   "outputs": [],
   "source": [
    "walker_history = pd.DataFrame(data=walker_history, columns=[\"step\", \"x\", \"y\"])\n",
    "walker_history[\"step\"] = pd.to_numeric(walker_history[\"step\"], downcast=\"signed\")"
   ]
  },
  {
   "cell_type": "markdown",
   "metadata": {},
   "source": [
    "Check the first and last 5 rows to verify that everything is worked as expected."
   ]
  },
  {
   "cell_type": "code",
   "execution_count": 20,
   "metadata": {},
   "outputs": [
    {
     "data": {
      "text/html": [
       "<div>\n",
       "<style scoped>\n",
       "    .dataframe tbody tr th:only-of-type {\n",
       "        vertical-align: middle;\n",
       "    }\n",
       "\n",
       "    .dataframe tbody tr th {\n",
       "        vertical-align: top;\n",
       "    }\n",
       "\n",
       "    .dataframe thead th {\n",
       "        text-align: right;\n",
       "    }\n",
       "</style>\n",
       "<table border=\"1\" class=\"dataframe\">\n",
       "  <thead>\n",
       "    <tr style=\"text-align: right;\">\n",
       "      <th></th>\n",
       "      <th>step</th>\n",
       "      <th>x</th>\n",
       "      <th>y</th>\n",
       "    </tr>\n",
       "  </thead>\n",
       "  <tbody>\n",
       "    <tr>\n",
       "      <th>0</th>\n",
       "      <td>0</td>\n",
       "      <td>0.0</td>\n",
       "      <td>0.0</td>\n",
       "    </tr>\n",
       "    <tr>\n",
       "      <th>1</th>\n",
       "      <td>1</td>\n",
       "      <td>1.0</td>\n",
       "      <td>-1.0</td>\n",
       "    </tr>\n",
       "    <tr>\n",
       "      <th>2</th>\n",
       "      <td>2</td>\n",
       "      <td>2.0</td>\n",
       "      <td>-2.0</td>\n",
       "    </tr>\n",
       "    <tr>\n",
       "      <th>3</th>\n",
       "      <td>3</td>\n",
       "      <td>3.0</td>\n",
       "      <td>-3.0</td>\n",
       "    </tr>\n",
       "    <tr>\n",
       "      <th>4</th>\n",
       "      <td>4</td>\n",
       "      <td>2.0</td>\n",
       "      <td>-4.0</td>\n",
       "    </tr>\n",
       "  </tbody>\n",
       "</table>\n",
       "</div>"
      ],
      "text/plain": [
       "   step    x    y\n",
       "0     0  0.0  0.0\n",
       "1     1  1.0 -1.0\n",
       "2     2  2.0 -2.0\n",
       "3     3  3.0 -3.0\n",
       "4     4  2.0 -4.0"
      ]
     },
     "execution_count": 20,
     "metadata": {},
     "output_type": "execute_result"
    }
   ],
   "source": [
    "walker_history.head()"
   ]
  },
  {
   "cell_type": "code",
   "execution_count": 21,
   "metadata": {},
   "outputs": [
    {
     "data": {
      "text/html": [
       "<div>\n",
       "<style scoped>\n",
       "    .dataframe tbody tr th:only-of-type {\n",
       "        vertical-align: middle;\n",
       "    }\n",
       "\n",
       "    .dataframe tbody tr th {\n",
       "        vertical-align: top;\n",
       "    }\n",
       "\n",
       "    .dataframe thead th {\n",
       "        text-align: right;\n",
       "    }\n",
       "</style>\n",
       "<table border=\"1\" class=\"dataframe\">\n",
       "  <thead>\n",
       "    <tr style=\"text-align: right;\">\n",
       "      <th></th>\n",
       "      <th>step</th>\n",
       "      <th>x</th>\n",
       "      <th>y</th>\n",
       "    </tr>\n",
       "  </thead>\n",
       "  <tbody>\n",
       "    <tr>\n",
       "      <th>96</th>\n",
       "      <td>96</td>\n",
       "      <td>-4.0</td>\n",
       "      <td>-16.0</td>\n",
       "    </tr>\n",
       "    <tr>\n",
       "      <th>97</th>\n",
       "      <td>97</td>\n",
       "      <td>-5.0</td>\n",
       "      <td>-15.0</td>\n",
       "    </tr>\n",
       "    <tr>\n",
       "      <th>98</th>\n",
       "      <td>98</td>\n",
       "      <td>-6.0</td>\n",
       "      <td>-16.0</td>\n",
       "    </tr>\n",
       "    <tr>\n",
       "      <th>99</th>\n",
       "      <td>99</td>\n",
       "      <td>-5.0</td>\n",
       "      <td>-15.0</td>\n",
       "    </tr>\n",
       "    <tr>\n",
       "      <th>100</th>\n",
       "      <td>100</td>\n",
       "      <td>-4.0</td>\n",
       "      <td>-16.0</td>\n",
       "    </tr>\n",
       "  </tbody>\n",
       "</table>\n",
       "</div>"
      ],
      "text/plain": [
       "     step    x     y\n",
       "96     96 -4.0 -16.0\n",
       "97     97 -5.0 -15.0\n",
       "98     98 -6.0 -16.0\n",
       "99     99 -5.0 -15.0\n",
       "100   100 -4.0 -16.0"
      ]
     },
     "execution_count": 21,
     "metadata": {},
     "output_type": "execute_result"
    }
   ],
   "source": [
    "walker_history.tail()"
   ]
  },
  {
   "cell_type": "markdown",
   "metadata": {},
   "source": [
    "While this approach works fine, it is not the most efficient way to run the simulation.\n",
    "Next we show how to make full use of `numpy` to obtain dramatic speedups in the calculation."
   ]
  },
  {
   "cell_type": "markdown",
   "metadata": {},
   "source": [
    "### Using `numpy`\n",
    "\n",
    "Like in many other situations, we can speed up our random walk by making use of the vectorization features in `numpy`.\n",
    "This allows us to write code that does not contain any `for` loops.\n",
    "In particular, we generate all quantities related to random number generation up front, and then perform a cumulative summation operation to obtain the walker's history.\n",
    "The code is as follows:"
   ]
  },
  {
   "cell_type": "markdown",
   "metadata": {},
   "source": [
    "Choose the number of steps and initialize the walker history as an array of 3 columns and 101 rows (origin start + 100 steps)"
   ]
  },
  {
   "cell_type": "code",
   "execution_count": 22,
   "metadata": {},
   "outputs": [],
   "source": [
    "nsteps = 100\n",
    "walker_history = np.zeros((101, 3))"
   ]
  },
  {
   "cell_type": "markdown",
   "metadata": {},
   "source": [
    "The first column in walker_history is the step number, which runs from 0 to 100."
   ]
  },
  {
   "cell_type": "code",
   "execution_count": 23,
   "metadata": {},
   "outputs": [],
   "source": [
    "walker_history[:, 0] = np.arange(start=0, stop=101, step=1)"
   ]
  },
  {
   "cell_type": "markdown",
   "metadata": {},
   "source": [
    "Generate the sequence of random numbers for the x and y coordinates for all 100 steps"
   ]
  },
  {
   "cell_type": "code",
   "execution_count": 24,
   "metadata": {},
   "outputs": [],
   "source": [
    "random_walk_steps = np.random.choice(a=[1, -1], size=(nsteps, 2), replace=True)"
   ]
  },
  {
   "cell_type": "markdown",
   "metadata": {},
   "source": [
    "Apply the cumulative sum function to random_walk_steps, summing down each column separately"
   ]
  },
  {
   "cell_type": "code",
   "execution_count": 25,
   "metadata": {},
   "outputs": [],
   "source": [
    "random_walk_cumsum = np.cumsum(a=random_walk_steps, axis=0)"
   ]
  },
  {
   "cell_type": "markdown",
   "metadata": {},
   "source": [
    "Insert random_walk_cumsum into columns 2 and 3 of walker_history, starting at the row with index 1"
   ]
  },
  {
   "cell_type": "code",
   "execution_count": 26,
   "metadata": {},
   "outputs": [],
   "source": [
    "walker_history[1:, [1, 2]] = random_walk_cumsum"
   ]
  },
  {
   "cell_type": "markdown",
   "metadata": {},
   "source": [
    "Convert walker_history into a pandas DataFrame"
   ]
  },
  {
   "cell_type": "code",
   "execution_count": 27,
   "metadata": {},
   "outputs": [],
   "source": [
    "walker_history = pd.DataFrame(data=walker_history, columns=[\"step\", \"x\", \"y\"])\n",
    "walker_history[\"step\"] = pd.to_numeric(walker_history[\"step\"], downcast=\"signed\")"
   ]
  },
  {
   "cell_type": "markdown",
   "metadata": {},
   "source": [
    "Check the first and last 5 rows to verify that everything is worked as expected."
   ]
  },
  {
   "cell_type": "code",
   "execution_count": 28,
   "metadata": {},
   "outputs": [
    {
     "data": {
      "text/html": [
       "<div>\n",
       "<style scoped>\n",
       "    .dataframe tbody tr th:only-of-type {\n",
       "        vertical-align: middle;\n",
       "    }\n",
       "\n",
       "    .dataframe tbody tr th {\n",
       "        vertical-align: top;\n",
       "    }\n",
       "\n",
       "    .dataframe thead th {\n",
       "        text-align: right;\n",
       "    }\n",
       "</style>\n",
       "<table border=\"1\" class=\"dataframe\">\n",
       "  <thead>\n",
       "    <tr style=\"text-align: right;\">\n",
       "      <th></th>\n",
       "      <th>step</th>\n",
       "      <th>x</th>\n",
       "      <th>y</th>\n",
       "    </tr>\n",
       "  </thead>\n",
       "  <tbody>\n",
       "    <tr>\n",
       "      <th>0</th>\n",
       "      <td>0</td>\n",
       "      <td>0.0</td>\n",
       "      <td>0.0</td>\n",
       "    </tr>\n",
       "    <tr>\n",
       "      <th>1</th>\n",
       "      <td>1</td>\n",
       "      <td>1.0</td>\n",
       "      <td>1.0</td>\n",
       "    </tr>\n",
       "    <tr>\n",
       "      <th>2</th>\n",
       "      <td>2</td>\n",
       "      <td>2.0</td>\n",
       "      <td>0.0</td>\n",
       "    </tr>\n",
       "    <tr>\n",
       "      <th>3</th>\n",
       "      <td>3</td>\n",
       "      <td>1.0</td>\n",
       "      <td>-1.0</td>\n",
       "    </tr>\n",
       "    <tr>\n",
       "      <th>4</th>\n",
       "      <td>4</td>\n",
       "      <td>0.0</td>\n",
       "      <td>0.0</td>\n",
       "    </tr>\n",
       "  </tbody>\n",
       "</table>\n",
       "</div>"
      ],
      "text/plain": [
       "   step    x    y\n",
       "0     0  0.0  0.0\n",
       "1     1  1.0  1.0\n",
       "2     2  2.0  0.0\n",
       "3     3  1.0 -1.0\n",
       "4     4  0.0  0.0"
      ]
     },
     "execution_count": 28,
     "metadata": {},
     "output_type": "execute_result"
    }
   ],
   "source": [
    "walker_history.head()"
   ]
  },
  {
   "cell_type": "code",
   "execution_count": 29,
   "metadata": {},
   "outputs": [
    {
     "data": {
      "text/html": [
       "<div>\n",
       "<style scoped>\n",
       "    .dataframe tbody tr th:only-of-type {\n",
       "        vertical-align: middle;\n",
       "    }\n",
       "\n",
       "    .dataframe tbody tr th {\n",
       "        vertical-align: top;\n",
       "    }\n",
       "\n",
       "    .dataframe thead th {\n",
       "        text-align: right;\n",
       "    }\n",
       "</style>\n",
       "<table border=\"1\" class=\"dataframe\">\n",
       "  <thead>\n",
       "    <tr style=\"text-align: right;\">\n",
       "      <th></th>\n",
       "      <th>step</th>\n",
       "      <th>x</th>\n",
       "      <th>y</th>\n",
       "    </tr>\n",
       "  </thead>\n",
       "  <tbody>\n",
       "    <tr>\n",
       "      <th>96</th>\n",
       "      <td>96</td>\n",
       "      <td>-12.0</td>\n",
       "      <td>20.0</td>\n",
       "    </tr>\n",
       "    <tr>\n",
       "      <th>97</th>\n",
       "      <td>97</td>\n",
       "      <td>-13.0</td>\n",
       "      <td>19.0</td>\n",
       "    </tr>\n",
       "    <tr>\n",
       "      <th>98</th>\n",
       "      <td>98</td>\n",
       "      <td>-12.0</td>\n",
       "      <td>20.0</td>\n",
       "    </tr>\n",
       "    <tr>\n",
       "      <th>99</th>\n",
       "      <td>99</td>\n",
       "      <td>-13.0</td>\n",
       "      <td>19.0</td>\n",
       "    </tr>\n",
       "    <tr>\n",
       "      <th>100</th>\n",
       "      <td>100</td>\n",
       "      <td>-12.0</td>\n",
       "      <td>20.0</td>\n",
       "    </tr>\n",
       "  </tbody>\n",
       "</table>\n",
       "</div>"
      ],
      "text/plain": [
       "     step     x     y\n",
       "96     96 -12.0  20.0\n",
       "97     97 -13.0  19.0\n",
       "98     98 -12.0  20.0\n",
       "99     99 -13.0  19.0\n",
       "100   100 -12.0  20.0"
      ]
     },
     "execution_count": 29,
     "metadata": {},
     "output_type": "execute_result"
    }
   ],
   "source": [
    "walker_history.tail()"
   ]
  },
  {
   "cell_type": "markdown",
   "metadata": {},
   "source": [
    "If you compare these with the previous outputs, you'll see that they're identical, so the implementation is working as expected."
   ]
  },
  {
   "cell_type": "markdown",
   "metadata": {},
   "source": [
    "### Benchmarking the `numpy` version\n",
    "\n",
    "As always, don't just take my word that the `numpy` version is more efficient than the `for` loop version, check out the following benchmarks to verify for yourself.\n",
    "\n",
    "The main part of the algorithm that we're interested in is the `for` loop part, the other lines are just for setup and teardown purposes.\n",
    "So, when doing the benchmarks, let's isolate and only time that part.\n",
    "We do that by putting the initialization code on the same line as the `%%timeit` magic.\n",
    "\n",
    "We will increase the number of steps from 100 to 1000 for this simulation."
   ]
  },
  {
   "cell_type": "markdown",
   "metadata": {},
   "source": [
    "#### `for` loop version"
   ]
  },
  {
   "cell_type": "markdown",
   "metadata": {},
   "source": [
    "Set up the calculation with the important parameters on the first line and then time the simulation:"
   ]
  },
  {
   "cell_type": "code",
   "execution_count": 30,
   "metadata": {},
   "outputs": [
    {
     "name": "stdout",
     "output_type": "stream",
     "text": [
      "6.2 ms ± 129 µs per loop (mean ± std. dev. of 7 runs, 100 loops each)\n"
     ]
    }
   ],
   "source": [
    "%%timeit nsteps = 1000; walker_x = 0; walker_y = 0; walker_history = np.zeros((1001, 3)); walker_history[:, 0] = np.arange(start=0, stop=1001, step=1)\n",
    "\n",
    "for step_number in np.arange(start=1, stop=nsteps + 1, step=1):\n",
    "    rand = np.random.randint(low=0, high=2)\n",
    "    if rand == 0:\n",
    "        walker_x += 1\n",
    "    else:\n",
    "        walker_x -= 1\n",
    "\n",
    "    rand = np.random.randint(low=0, high=2)\n",
    "    if rand == 0:\n",
    "        walker_y += 1\n",
    "    else:\n",
    "        walker_y -= 1\n",
    "        \n",
    "    walker_history[step_number, [1, 2]] = (walker_x, walker_y)"
   ]
  },
  {
   "cell_type": "markdown",
   "metadata": {},
   "source": [
    "#### `numpy` vectorized version"
   ]
  },
  {
   "cell_type": "markdown",
   "metadata": {},
   "source": [
    "Set up the calculation with the important parameters on the first line and then time the simulation:"
   ]
  },
  {
   "cell_type": "code",
   "execution_count": 31,
   "metadata": {},
   "outputs": [
    {
     "name": "stdout",
     "output_type": "stream",
     "text": [
      "40 µs ± 187 ns per loop (mean ± std. dev. of 7 runs, 10000 loops each)\n"
     ]
    }
   ],
   "source": [
    "%%timeit nsteps = 1000; walker_history = np.zeros((1001, 3)); walker_history[:, 0] = np.arange(start=0, stop=1001, step=1)\n",
    "\n",
    "random_walk_steps = np.random.choice(a=[1, -1], size=(nsteps, 2), replace=True)\n",
    "random_walk_cumsum = np.cumsum(a=random_walk_steps, axis=0)\n",
    "walker_history[1:, [1, 2]] = random_walk_cumsum"
   ]
  },
  {
   "cell_type": "markdown",
   "metadata": {},
   "source": [
    "#### Benchmark conclusions\n",
    "\n",
    "If we take the ratio, then we are able to determine how many times faster the numpy version is when compared with the `for` loop version."
   ]
  },
  {
   "cell_type": "code",
   "execution_count": 32,
   "metadata": {},
   "outputs": [
    {
     "name": "stdout",
     "output_type": "stream",
     "text": [
      "The numpy version is 174 times faster than the \"for\" loop version\n"
     ]
    }
   ],
   "source": [
    "print(f\"The numpy version is {round(5.13E-3 / 29.5E-6, 0):.0f} times \"\n",
    "      \"faster than the \\\"for\\\" loop version\")"
   ]
  },
  {
   "cell_type": "markdown",
   "metadata": {},
   "source": [
    "For this simulation, the vectorized implementation results in a 174x speedup, which is an excellent improvement."
   ]
  },
  {
   "cell_type": "markdown",
   "metadata": {},
   "source": [
    "## Animating the Random Walk\n",
    "\n",
    "The random walk is an excellent example of a simulation that you want to animate.\n",
    "We can use matplotlib to create a series of still plots that are combined into a single animated movie.\n",
    "The following code will generate the movie:"
   ]
  },
  {
   "cell_type": "code",
   "execution_count": 33,
   "metadata": {},
   "outputs": [],
   "source": [
    "# Initialize matplotlib viewing window\n",
    "fig, ax = plt.subplots(dpi=150, figsize=(4, 4))\n",
    "\n",
    "# Label the horizontal and vertical axes as x and y, then give animation a\n",
    "# title\n",
    "ax.set_xlabel(\"x\")\n",
    "ax.set_ylabel(\"y\")\n",
    "ax.set_title(\"2D Random Walk: 100 steps\")\n",
    "\n",
    "# Initialize the walker as a point and its history as a line\n",
    "point, = ax.plot([], [], 'o', color=\"tab:blue\")\n",
    "line, = ax.plot([], [], '-', color=\"tab:orange\", lw=2)\n",
    "\n",
    "# Set the viewing window to a square region centered about the origin.\n",
    "# The distance from the center to the window edge is set by the absolute\n",
    "# maximum value in walker_history.\n",
    "max_xy = np.max(np.abs(walker_history[[\"x\", \"y\"]].values))\n",
    "ax.set_xlim([-max_xy, max_xy])\n",
    "ax.set_ylim([-max_xy, max_xy])\n",
    "\n",
    "# Show the grid after by placing a tick at every integer value along the x and\n",
    "# y directions\n",
    "xticks_start, xticks_end = ax.get_xlim()\n",
    "yticks_start, yticks_end = ax.get_ylim()\n",
    "ax.xaxis.set_ticks(\n",
    "    np.linspace(xticks_start, xticks_end, np.int((xticks_end - xticks_start) + 1)),\n",
    "    minor=False,\n",
    ")\n",
    "ax.yaxis.set_ticks(\n",
    "    np.linspace(yticks_start, yticks_end, np.int((xticks_end - xticks_start) + 1)),\n",
    "    minor=False,\n",
    ")\n",
    "ax.axes.grid(True, linestyle=\"-\", linewidth=1, color=\"tab:gray\", which=\"major\")\n",
    "\n",
    "# After generating the grid, remove the numerical and text labels\n",
    "ax.tick_params(\n",
    "    labelbottom = False, labelleft=False, bottom=False, left=False\n",
    ")\n",
    "\n",
    "# Running the above commands creates a blank matplotlib window, so let's get\n",
    "# rid of that\n",
    "plt.close()"
   ]
  },
  {
   "cell_type": "markdown",
   "metadata": {},
   "source": [
    "The initialization function, clears out the data in the point and line objects."
   ]
  },
  {
   "cell_type": "code",
   "execution_count": 34,
   "metadata": {},
   "outputs": [],
   "source": [
    "def init():\n",
    "    point.set_data([], [])\n",
    "    line.set_data([], [])\n",
    "    return (point, line,)"
   ]
  },
  {
   "cell_type": "markdown",
   "metadata": {},
   "source": [
    "The animation function. Input i is the frame number of the animation, and is to be used for referencing how the data changes over time."
   ]
  },
  {
   "cell_type": "code",
   "execution_count": 35,
   "metadata": {},
   "outputs": [],
   "source": [
    "def animate(i):\n",
    "    # Get walker's position at step i and set as the underlying data for the\n",
    "    # point object\n",
    "    x = walker_history.loc[i, \"x\"]\n",
    "    y = walker_history.loc[i, \"y\"]\n",
    "    point.set_data(x, y)\n",
    "\n",
    "    # Get the walker's position up through step i and set as the underlying\n",
    "    # data for the line object\n",
    "    xline = walker_history.loc[:i, \"x\"]\n",
    "    yline = walker_history.loc[:i, \"y\"]\n",
    "    line.set_data(xline, yline)\n",
    "\n",
    "    return (point, line,)"
   ]
  },
  {
   "cell_type": "markdown",
   "metadata": {},
   "source": [
    "Use animation.FuncAnimation to put the animation together.\n",
    "\n",
    "*   `frames` controls the number of frames in the movie.\n",
    "*   `interval` controls the delay in milliseconds inbetween each frame\n",
    "*   `blit` optimizes the animation size by only storing the changes between frames instead of as a series of full plots"
   ]
  },
  {
   "cell_type": "code",
   "execution_count": 36,
   "metadata": {},
   "outputs": [],
   "source": [
    "anim = animation.FuncAnimation(\n",
    "    fig=fig,\n",
    "    func=animate,\n",
    "    frames=101,\n",
    "    init_func=init,\n",
    "    interval=100,\n",
    "    blit=True\n",
    ");"
   ]
  },
  {
   "cell_type": "markdown",
   "metadata": {},
   "source": [
    "Now that we've obtained the animation object `anim`, use the method `to_html5_video()` to render the movie in a format that can be run natively in your web-browser.\n",
    "We wrap the output in the `HTML()` function (imported from `IPython.display`) to tell the Jupyter notebook to render the output HTML instead of just printing it as text."
   ]
  },
  {
   "cell_type": "code",
   "execution_count": 37,
   "metadata": {},
   "outputs": [],
   "source": [
    "#HTML(anim.to_html5_video())"
   ]
  }
 ],
 "metadata": {
  "kernelspec": {
   "display_name": "Python 3",
   "language": "python",
   "name": "python3"
  },
  "language_info": {
   "codemirror_mode": {
    "name": "ipython",
    "version": 3
   },
   "file_extension": ".py",
   "mimetype": "text/x-python",
   "name": "python",
   "nbconvert_exporter": "python",
   "pygments_lexer": "ipython3",
   "version": "3.6.5"
  }
 },
 "nbformat": 4,
 "nbformat_minor": 2
}
