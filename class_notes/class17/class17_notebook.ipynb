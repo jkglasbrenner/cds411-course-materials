{
 "cells": [
  {
   "cell_type": "markdown",
   "metadata": {
    "cell_style": "center",
    "slideshow": {
     "slide_type": "slide"
    }
   },
   "source": [
    "![CDS 411 logo](../../img/cds-411-logo.png)\n",
    "\n",
    "# Class 17: Data-driven modeling IV\n",
    "\n",
    "---\n",
    "\n",
    "![CC BY-SA 4.0 license](../../img/cc-by-sa.png)\n",
    "\n",
    "This notebook is licensed under a [Creative Commons Attribution-ShareAlike 4.0 International License](http://creativecommons.org/licenses/by-sa/4.0/)."
   ]
  },
  {
   "cell_type": "markdown",
   "metadata": {
    "cell_style": "center",
    "slideshow": {
     "slide_type": "slide"
    }
   },
   "source": [
    "## Load packages"
   ]
  },
  {
   "cell_type": "code",
   "execution_count": 1,
   "metadata": {
    "cell_style": "center",
    "slideshow": {
     "cell_style": "split",
     "slide_type": "-"
    }
   },
   "outputs": [],
   "source": [
    "%matplotlib inline\n",
    "\n",
    "from pathlib import Path\n",
    "\n",
    "import matplotlib.pyplot as plt\n",
    "import numpy as np\n",
    "import pandas as pd\n",
    "import seaborn as sns\n",
    "from sklearn.linear_model import LinearRegression\n",
    "from sklearn.model_selection import cross_val_score, RepeatedKFold"
   ]
  },
  {
   "cell_type": "markdown",
   "metadata": {},
   "source": [
    "Select a random seed for notebook reproducibility."
   ]
  },
  {
   "cell_type": "code",
   "execution_count": 2,
   "metadata": {},
   "outputs": [],
   "source": [
    "np.random.seed(9982)"
   ]
  },
  {
   "cell_type": "markdown",
   "metadata": {},
   "source": [
    "## Recap of model selection"
   ]
  },
  {
   "cell_type": "markdown",
   "metadata": {},
   "source": [
    "Load the *Filip* dataset."
   ]
  },
  {
   "cell_type": "code",
   "execution_count": 3,
   "metadata": {},
   "outputs": [],
   "source": [
    "filip_csv_path = Path(\"../../data/nist/filip.csv\")\n",
    "filip_df = pd.read_csv(filip_csv_path)"
   ]
  },
  {
   "cell_type": "markdown",
   "metadata": {},
   "source": [
    "### What are we trying to do?"
   ]
  },
  {
   "cell_type": "markdown",
   "metadata": {},
   "source": [
    "We considered the problem of selecting a model that best describes the data in the *Filip* dataset."
   ]
  },
  {
   "cell_type": "code",
   "execution_count": 4,
   "metadata": {},
   "outputs": [
    {
     "data": {
      "image/png": "[encoded data removed]",
      "text/plain": [
       "<Figure size 600x400 with 1 Axes>"
      ]
     },
     "metadata": {
      "needs_background": "light"
     },
     "output_type": "display_data"
    }
   ],
   "source": [
    "fig, ax = plt.subplots(dpi=100)\n",
    "sns.scatterplot(x=\"x\", y=\"y\", data=filip_df, ax=ax);"
   ]
  },
  {
   "cell_type": "markdown",
   "metadata": {},
   "source": [
    "For our space of models, we considered different cut-offs for the polynomial summation:\n",
    "\n",
    "$$f(x)=\\sum_{n}\\beta_{n}x^{n}$$\n",
    "\n",
    "In principle, there is an infinite number of models to choose from, as we can always include more terms in the summation. In practice, we cannot have more terms than datapoints, but even with that restriction, we still have a large number of models to choose from.\n",
    "\n",
    "**How do we decide which model is best?**\n",
    "\n",
    "We want to avoid overfitting, which would mean we're starting to fit to the statistical noise inherent in this data. This means we need to strike a balance between explanatory/predictive power and generalizability. We use **cross-validation** to help us compare and rank the models according to how well they achieve this balance."
   ]
  },
  {
   "cell_type": "markdown",
   "metadata": {},
   "source": [
    "### Cross-validation"
   ]
  },
  {
   "cell_type": "markdown",
   "metadata": {},
   "source": [
    "#### What is it?\n",
    "\n",
    "Cross-validation is a technique used to assess how well a model's predictions generalize to an independent data set. There are different ways to do this. A popular flavor of cross-validation (especially among data scientists) is called **k-fold cross-validation**. The basic idea is to estimate how robust your model is by systematically removing different chunks (the \"folds\") of the dataset, repeating the fitting process, then testing its predictive power on the folds. The schematic below illustrates the procedure.\n",
    "\n",
    "![cross validation schematic](../../img/cross-validation-schematic.png)\n",
    "\n",
    "The above example illustrates a *5-fold*, or $k=5$, cross-validation. Each fold will act as a testing set, with the remaining $k-1$ folds used to train the model. You fit the model using the training set and try to predict values in the current fold, which you quantify by calculating a score, such as the mean-squared prediction error (MSE). The important feature here is that *you are trying to predict data that was **not** used in the training stage*. When cross-validation is completed, you will have a history of scores for each model. The average score for each model can then be compared as a means for ranking and selecting a final model.\n",
    "\n",
    "#### Why do we use it?\n",
    "\n",
    "In an ideal setting, you would use your current dataset to train a predictive model, and then test it out by going out and collecting more data and seeing how well the model predicts these new data points. However, there are many reasons in practice that this can be difficult to do. It can be expensive and/or technically difficult to gather new data. It may not be possible to gather new data relevant to the problem at hand. So, we can use methods like cross-validation to overcome some of these problems. Cross-validation also helps us to guard against overfitting. If a model has been overfit, *then it's predictions will be poor for any data points that are not part of the training set*.\n",
    "\n",
    "#### When should we use it?\n",
    "\n",
    "Anytime you need to assess the performance and generalizability of a model on unavailable data and a theoretical analysis of the problem is not available. In addition to select between different models, you can also use cross-validation to optimize a single model's internal parameters. This method is an indispensible part of the computational scientist's toolbox."
   ]
  },
  {
   "cell_type": "markdown",
   "metadata": {},
   "source": [
    "### Cross-validation code"
   ]
  },
  {
   "cell_type": "code",
   "execution_count": 5,
   "metadata": {},
   "outputs": [],
   "source": [
    "lm = LinearRegression()"
   ]
  },
  {
   "cell_type": "code",
   "execution_count": 6,
   "metadata": {},
   "outputs": [],
   "source": [
    "filip_df_poly = filip_df.copy()\n",
    "\n",
    "for n in np.arange(2, 16):\n",
    "    filip_df_poly[f\"x**{n}\"] = filip_df_poly[\"x\"] ** n"
   ]
  },
  {
   "cell_type": "code",
   "execution_count": 7,
   "metadata": {},
   "outputs": [],
   "source": [
    "independent_var = \"y\"\n",
    "dependent_vars = [\"x\"]\n",
    "\n",
    "filip_poly_cv_scores = {\n",
    "    \"n\": [],\n",
    "    \"mse_trace\": [],\n",
    "    \"mse_mean\": [],\n",
    "    \"mse_sd\": [],\n",
    "    \"r**2_trace\": [],\n",
    "    \"r**2_mean\": [],\n",
    "    \"r**2_sd\": [],\n",
    "}"
   ]
  },
  {
   "cell_type": "code",
   "execution_count": 8,
   "metadata": {},
   "outputs": [],
   "source": [
    "for n in range(1, 16):\n",
    "    if n > 1:\n",
    "        dependent_vars.append(f\"x**{n}\")\n",
    "        \n",
    "    rkf = RepeatedKFold(\n",
    "        n_splits=10,\n",
    "        n_repeats=100,\n",
    "        random_state=int(np.round(np.random.uniform(0, 2**31), decimals=0)),\n",
    "    )\n",
    "    \n",
    "    # Cross-validated mean-squared error score\n",
    "    mse_cv_score = cross_val_score(\n",
    "        lm,\n",
    "        filip_df_poly[dependent_vars],\n",
    "        filip_df_poly[independent_var],\n",
    "        scoring=\"neg_mean_squared_error\",\n",
    "        cv=rkf,\n",
    "        n_jobs=-1,  # Use all processors during cross-validation run\n",
    "    )\n",
    "\n",
    "    # Cross-validated R**2 score\n",
    "    r2_cv_score = cross_val_score(\n",
    "        lm,\n",
    "        filip_df_poly[dependent_vars],\n",
    "        filip_df_poly[independent_var],\n",
    "        scoring=\"r2\",\n",
    "        cv=rkf,\n",
    "        n_jobs=-1,  # Use all processors during cross-validation run\n",
    "    )\n",
    "\n",
    "    filip_poly_cv_scores[\"n\"].append(n)\n",
    "    filip_poly_cv_scores[\"mse_trace\"].append(mse_cv_score)\n",
    "    filip_poly_cv_scores[\"mse_mean\"].append(np.mean(mse_cv_score))\n",
    "    filip_poly_cv_scores[\"mse_sd\"].append(np.std(mse_cv_score))\n",
    "    filip_poly_cv_scores[\"r**2_trace\"].append(r2_cv_score)\n",
    "    filip_poly_cv_scores[\"r**2_mean\"].append(np.mean(r2_cv_score))\n",
    "    filip_poly_cv_scores[\"r**2_sd\"].append(np.std(r2_cv_score))\n",
    "\n",
    "# Convert dictionary to data frame\n",
    "filip_poly_cv_scores_df = pd.DataFrame(filip_poly_cv_scores)"
   ]
  },
  {
   "cell_type": "markdown",
   "metadata": {},
   "source": [
    "### Bootstrapping/resampling"
   ]
  },
  {
   "cell_type": "markdown",
   "metadata": {},
   "source": [
    "#### What is it?\n",
    "\n",
    "Bootstrapping is a method for estimating statistical properties by sampling with replacement from the distribution of the available dataset. This method rests on the assumption that the available dataset distribution reasonably approximates the \"true\" statistical distribution.\n",
    "\n",
    "A nice visualization of the bootstrapping method is available on *Seeing Theory*: <https://seeing-theory.brown.edu/frequentist-inference/index.html#section3>\n",
    "\n",
    "#### Why do we use it?\n",
    "\n",
    "We use bootstrapping when we want to analyze how fluctuations impact statistical properties, for example the mean, median, variance, and so on. It is particularly useful if we do not know the underlying \"true\" data distribution, or if there are important outliers in our dataset that would be missed by idealizing our distribution. We can use it to construct confidence intervals, which can be used to measure the standard error of a statistical property. It can also be used for statistical inference, for example for running hypothesis tests using *p*-values.\n",
    "\n",
    "#### When should we use it?\n",
    "\n",
    "If you want to know how much variation there is in a statistical property and you do not know the \"true\" underlying data distribution. Even if you do know the underlying distribution, it can be convenient to use bootstrapping in a re-usable workflow that may be applied to different datasets. If you make assumptions about the underlying dataset, you will have to change your code each time the dataset changes. If you use bootstrapping, then you no longer need to do this."
   ]
  },
  {
   "cell_type": "markdown",
   "metadata": {},
   "source": [
    "### Bootstrapping code"
   ]
  },
  {
   "cell_type": "code",
   "execution_count": 9,
   "metadata": {},
   "outputs": [],
   "source": [
    "filip_cv_scores_dist_df = pd.concat(\n",
    "    [\n",
    "        pd.DataFrame(filip_poly_cv_scores_df[\"mse_trace\"].tolist()) \\\n",
    "        .assign(n=[f\"{x}\" for x in range(1, 16)], score=\"mse\") \\\n",
    "        .melt(id_vars=[\"n\", \"score\"], value_vars=list(range(1000)),\n",
    "              var_name=\"cv_run\", value_name=\"value\") \\\n",
    "        .sort_values([\"score\", \"n\", \"cv_run\"]) \\\n",
    "        .reset_index(drop=True),\n",
    "        pd.DataFrame(filip_poly_cv_scores_df[\"r**2_trace\"].tolist()) \\\n",
    "        .assign(n=[f\"{x}\" for x in range(1, 16)], score=\"r**2\") \\\n",
    "        .melt(id_vars=[\"n\", \"score\"], value_vars=list(range(1000)),\n",
    "              var_name=\"cv_run\", value_name=\"value\") \\\n",
    "        .sort_values([\"score\", \"n\", \"cv_run\"]) \\\n",
    "        .reset_index(drop=True),\n",
    "    ]\n",
    ")\n",
    "\n",
    "bootstrap_results = {\n",
    "    \"n\": [],\n",
    "    \"sample\": [],\n",
    "    \"mean\": [],\n",
    "}\n",
    "\n",
    "for n in range(2, 16):\n",
    "    bootstrap_series = filip_cv_scores_dist_df \\\n",
    "        .query(f\"score == 'mse' & n == '{n}'\") \\\n",
    "        .sample(frac=1000, replace=True).loc[:, \"value\"]\n",
    "    bootstrap_df = pd.DataFrame(bootstrap_series) \\\n",
    "        .assign(sample_id=[f\"{x}\" for x in range(1000) for _ in range(1000)])\n",
    "    bootstrap_mean_samples = bootstrap_df \\\n",
    "        .groupby([\"sample_id\"]) \\\n",
    "        .mean() \\\n",
    "        .loc[:, \"value\"] \\\n",
    "        .values\n",
    "\n",
    "    bootstrap_results[\"n\"].extend(1000 * [f\"{n}\"])\n",
    "    bootstrap_results[\"sample\"].extend(list(range(1000)))\n",
    "    bootstrap_results[\"mean\"].extend(bootstrap_mean_samples)\n",
    "\n",
    "filip_cv_scores_bootstrap_df = pd.DataFrame(bootstrap_results)"
   ]
  },
  {
   "cell_type": "markdown",
   "metadata": {},
   "source": [
    "## Difference between cross-validation and bootstrapping"
   ]
  },
  {
   "cell_type": "markdown",
   "metadata": {},
   "source": [
    "Cross-validation and bootstrapping share some similar features. Both involve random partitioning of data in some way, and let us see how statistical fluctuations impact our results. Despite these, they are distinct and used for different purposes. We used both in our analysis of the *Filip* dataset.\n",
    "\n",
    "*   **Cross-valdiation**: We used this to score the predictive power of different polynomial summation models. The output of the cross-validation runs was a history of cross-validation scores for each model, representing different partitionings of the training and test datasets. The average of these runs for a single model yields the cross-validated score for the model, which we use to rank and compare model performance.\n",
    "\n",
    "*   **Bootstrapping**: We used this to compute the confidence interval of the cross-validated score. This was possible because our cross-validation runs yielded a statistical distribution of scores. **If** (and this is important!) our cross-validated scores were normally distributed, then the 95% confidence interval of the cross-validated score would be given by the formula $\\bar{x}\\pm{}(\\sigma_{\\bar{x}}\\times{}1.96)$, where $\\sigma_{\\bar{x}}$ is the standard error:\n",
    "    \n",
    "    $$\\sigma_{\\bar{x}}=\\dfrac{\\sigma{}}{\\sqrt{n}}$$\n",
    "    \n",
    "    However, as we saw, some of our distributions **are not** normally distributed, and the confidence interval formula does not hold. Generally, the confidence interval narrows as more samples are included in the average. Finding the 95% confidence interval for our statistical averages lets us assess which of our scores are statistically different from one another."
   ]
  },
  {
   "cell_type": "markdown",
   "metadata": {},
   "source": [
    "## Visualizing and reporting the scores"
   ]
  },
  {
   "cell_type": "markdown",
   "metadata": {},
   "source": [
    "There are two choices for what to use as the error bars when we visualize and report on the statistical distribution of the cross-validated scores:\n",
    "\n",
    "1.  Use the error bars to represent the overall spread of the cross-validation runs. To show this, you might set the limits of the error bars to be the upper and lower bounds for the middle 95% of the data. This does not require any bootstrapping.\n",
    "\n",
    "2.  Use the error bars to represent the overall accuracy of the cross-validated scores. To show this, you would compute a confidence interval for the cross-validated scores using bootstrapping.\n",
    "\n",
    "We compute the error bars for the overall accuracy of the cross-validated scores first:"
   ]
  },
  {
   "cell_type": "code",
   "execution_count": 10,
   "metadata": {},
   "outputs": [],
   "source": [
    "filip_mse_ci_95 = filip_cv_scores_bootstrap_df \\\n",
    "    .loc[:, [\"n\", \"mean\"]] \\\n",
    "    .groupby([\"n\"]) \\\n",
    "    .quantile([0.025, 0.975])\n",
    "filip_mse_ci_95 = filip_mse_ci_95[\"mean\"] \\\n",
    "    .unstack() \\\n",
    "    .reset_index() \\\n",
    "    .rename(columns={0.025: \"lower\", 0.975: \"upper\"})\n",
    "\n",
    "filip_cv_final_df = filip_poly_cv_scores_df.copy().loc[:, [\"n\", \"mse_mean\"]].query(\"n > 1\")\n",
    "filip_cv_final_df[\"n\"] = filip_cv_final_df[\"n\"].astype(str)\n",
    "filip_cv_final_df = filip_cv_final_df.merge(filip_mse_ci_95, on=[\"n\"])\n",
    "\n",
    "# Error bar lengths are measured relative to the mean\n",
    "filip_cv_final_df[\"yerr_lower\"] = np.abs(filip_cv_final_df[\"mse_mean\"] - filip_cv_final_df[\"lower\"])\n",
    "filip_cv_final_df[\"yerr_upper\"] = np.abs(filip_cv_final_df[\"mse_mean\"] - filip_cv_final_df[\"upper\"])"
   ]
  },
  {
   "cell_type": "markdown",
   "metadata": {},
   "source": [
    "To look at the spread of the cross-validation scores, we just need to compute the lower and upper bounds for the middle 95% of the values in the `filip_cv_scores_dist_df` data frame. The code below finds those percentiles and joins them into the data frame."
   ]
  },
  {
   "cell_type": "code",
   "execution_count": 11,
   "metadata": {},
   "outputs": [],
   "source": [
    "filip_cv_final_df = filip_cv_scores_dist_df \\\n",
    "    .query(\"score == 'mse'\") \\\n",
    "    .loc[:, [\"n\", \"value\"]] \\\n",
    "    .groupby([\"n\"]) \\\n",
    "    .quantile([0.025, 0.975]) \\\n",
    "    .loc[:, \"value\"] \\\n",
    "    .unstack() \\\n",
    "    .reset_index() \\\n",
    "    .rename(columns={0.025: \"dist_lower\", 0.975: \"dist_upper\"}) \\\n",
    "    .merge(filip_cv_final_df, on=\"n\") \\\n",
    "    .assign(yerr_dist_lower=lambda x: np.abs(x.dist_lower - x.mse_mean),\n",
    "            yerr_dist_upper=lambda x: np.abs(x.dist_upper - x.mse_mean),\n",
    "            n=lambda x: x.n.astype(int)) \\\n",
    "    .sort_values([\"n\"]) \\\n",
    "    .reset_index(drop=True) \\\n",
    "    .loc[:, [\"n\", \"mse_mean\", \"lower\", \"upper\", \"yerr_lower\", \"yerr_upper\",\n",
    "             \"dist_lower\", \"dist_upper\", \"yerr_dist_lower\",\n",
    "             \"yerr_dist_upper\"]]"
   ]
  },
  {
   "cell_type": "markdown",
   "metadata": {},
   "source": [
    "The final data frame is as follows:"
   ]
  },
  {
   "cell_type": "code",
   "execution_count": 12,
   "metadata": {},
   "outputs": [
    {
     "data": {
      "text/html": [
       "<div>\n",
       "<style scoped>\n",
       "    .dataframe tbody tr th:only-of-type {\n",
       "        vertical-align: middle;\n",
       "    }\n",
       "\n",
       "    .dataframe tbody tr th {\n",
       "        vertical-align: top;\n",
       "    }\n",
       "\n",
       "    .dataframe thead th {\n",
       "        text-align: right;\n",
       "    }\n",
       "</style>\n",
       "<table border=\"1\" class=\"dataframe\">\n",
       "  <thead>\n",
       "    <tr style=\"text-align: right;\">\n",
       "      <th></th>\n",
       "      <th>n</th>\n",
       "      <th>mse_mean</th>\n",
       "      <th>lower</th>\n",
       "      <th>upper</th>\n",
       "      <th>yerr_lower</th>\n",
       "      <th>yerr_upper</th>\n",
       "      <th>dist_lower</th>\n",
       "      <th>dist_upper</th>\n",
       "      <th>yerr_dist_lower</th>\n",
       "      <th>yerr_dist_upper</th>\n",
       "    </tr>\n",
       "  </thead>\n",
       "  <tbody>\n",
       "    <tr>\n",
       "      <th>0</th>\n",
       "      <td>2</td>\n",
       "      <td>-0.000299</td>\n",
       "      <td>-0.000307</td>\n",
       "      <td>-0.000292</td>\n",
       "      <td>7.496232e-06</td>\n",
       "      <td>6.931635e-06</td>\n",
       "      <td>-0.000526</td>\n",
       "      <td>-0.000106</td>\n",
       "      <td>0.000227</td>\n",
       "      <td>0.000193</td>\n",
       "    </tr>\n",
       "    <tr>\n",
       "      <th>1</th>\n",
       "      <td>3</td>\n",
       "      <td>-0.000220</td>\n",
       "      <td>-0.000225</td>\n",
       "      <td>-0.000216</td>\n",
       "      <td>4.625765e-06</td>\n",
       "      <td>4.364832e-06</td>\n",
       "      <td>-0.000391</td>\n",
       "      <td>-0.000102</td>\n",
       "      <td>0.000171</td>\n",
       "      <td>0.000118</td>\n",
       "    </tr>\n",
       "    <tr>\n",
       "      <th>2</th>\n",
       "      <td>4</td>\n",
       "      <td>-0.000092</td>\n",
       "      <td>-0.000095</td>\n",
       "      <td>-0.000090</td>\n",
       "      <td>2.110358e-06</td>\n",
       "      <td>2.291977e-06</td>\n",
       "      <td>-0.000171</td>\n",
       "      <td>-0.000035</td>\n",
       "      <td>0.000079</td>\n",
       "      <td>0.000057</td>\n",
       "    </tr>\n",
       "    <tr>\n",
       "      <th>3</th>\n",
       "      <td>5</td>\n",
       "      <td>-0.000098</td>\n",
       "      <td>-0.000101</td>\n",
       "      <td>-0.000095</td>\n",
       "      <td>2.983943e-06</td>\n",
       "      <td>3.335300e-06</td>\n",
       "      <td>-0.000210</td>\n",
       "      <td>-0.000038</td>\n",
       "      <td>0.000112</td>\n",
       "      <td>0.000060</td>\n",
       "    </tr>\n",
       "    <tr>\n",
       "      <th>4</th>\n",
       "      <td>6</td>\n",
       "      <td>-0.000040</td>\n",
       "      <td>-0.000042</td>\n",
       "      <td>-0.000039</td>\n",
       "      <td>1.545200e-06</td>\n",
       "      <td>1.482100e-06</td>\n",
       "      <td>-0.000088</td>\n",
       "      <td>-0.000014</td>\n",
       "      <td>0.000047</td>\n",
       "      <td>0.000026</td>\n",
       "    </tr>\n",
       "    <tr>\n",
       "      <th>5</th>\n",
       "      <td>7</td>\n",
       "      <td>-0.000042</td>\n",
       "      <td>-0.000044</td>\n",
       "      <td>-0.000040</td>\n",
       "      <td>2.319783e-06</td>\n",
       "      <td>1.887609e-06</td>\n",
       "      <td>-0.000078</td>\n",
       "      <td>-0.000013</td>\n",
       "      <td>0.000036</td>\n",
       "      <td>0.000029</td>\n",
       "    </tr>\n",
       "    <tr>\n",
       "      <th>6</th>\n",
       "      <td>8</td>\n",
       "      <td>-0.000034</td>\n",
       "      <td>-0.000039</td>\n",
       "      <td>-0.000030</td>\n",
       "      <td>4.850659e-06</td>\n",
       "      <td>3.850499e-06</td>\n",
       "      <td>-0.000141</td>\n",
       "      <td>-0.000006</td>\n",
       "      <td>0.000106</td>\n",
       "      <td>0.000028</td>\n",
       "    </tr>\n",
       "    <tr>\n",
       "      <th>7</th>\n",
       "      <td>9</td>\n",
       "      <td>-0.000025</td>\n",
       "      <td>-0.000028</td>\n",
       "      <td>-0.000022</td>\n",
       "      <td>3.152797e-06</td>\n",
       "      <td>2.498889e-06</td>\n",
       "      <td>-0.000063</td>\n",
       "      <td>-0.000005</td>\n",
       "      <td>0.000038</td>\n",
       "      <td>0.000020</td>\n",
       "    </tr>\n",
       "    <tr>\n",
       "      <th>8</th>\n",
       "      <td>10</td>\n",
       "      <td>-0.000024</td>\n",
       "      <td>-0.000028</td>\n",
       "      <td>-0.000020</td>\n",
       "      <td>4.022749e-06</td>\n",
       "      <td>3.580657e-06</td>\n",
       "      <td>-0.000081</td>\n",
       "      <td>-0.000004</td>\n",
       "      <td>0.000058</td>\n",
       "      <td>0.000020</td>\n",
       "    </tr>\n",
       "    <tr>\n",
       "      <th>9</th>\n",
       "      <td>11</td>\n",
       "      <td>-0.000015</td>\n",
       "      <td>-0.000016</td>\n",
       "      <td>-0.000014</td>\n",
       "      <td>1.146726e-06</td>\n",
       "      <td>9.722713e-07</td>\n",
       "      <td>-0.000040</td>\n",
       "      <td>-0.000003</td>\n",
       "      <td>0.000025</td>\n",
       "      <td>0.000012</td>\n",
       "    </tr>\n",
       "    <tr>\n",
       "      <th>10</th>\n",
       "      <td>12</td>\n",
       "      <td>-0.000012</td>\n",
       "      <td>-0.000012</td>\n",
       "      <td>-0.000011</td>\n",
       "      <td>4.793494e-07</td>\n",
       "      <td>4.513782e-07</td>\n",
       "      <td>-0.000026</td>\n",
       "      <td>-0.000003</td>\n",
       "      <td>0.000014</td>\n",
       "      <td>0.000009</td>\n",
       "    </tr>\n",
       "    <tr>\n",
       "      <th>11</th>\n",
       "      <td>13</td>\n",
       "      <td>-0.000013</td>\n",
       "      <td>-0.000013</td>\n",
       "      <td>-0.000012</td>\n",
       "      <td>8.400889e-07</td>\n",
       "      <td>6.746116e-07</td>\n",
       "      <td>-0.000029</td>\n",
       "      <td>-0.000002</td>\n",
       "      <td>0.000016</td>\n",
       "      <td>0.000010</td>\n",
       "    </tr>\n",
       "    <tr>\n",
       "      <th>12</th>\n",
       "      <td>14</td>\n",
       "      <td>-0.000015</td>\n",
       "      <td>-0.000017</td>\n",
       "      <td>-0.000014</td>\n",
       "      <td>1.342835e-06</td>\n",
       "      <td>1.202937e-06</td>\n",
       "      <td>-0.000033</td>\n",
       "      <td>-0.000003</td>\n",
       "      <td>0.000017</td>\n",
       "      <td>0.000012</td>\n",
       "    </tr>\n",
       "    <tr>\n",
       "      <th>13</th>\n",
       "      <td>15</td>\n",
       "      <td>-0.000016</td>\n",
       "      <td>-0.000017</td>\n",
       "      <td>-0.000015</td>\n",
       "      <td>1.360617e-06</td>\n",
       "      <td>1.206158e-06</td>\n",
       "      <td>-0.000037</td>\n",
       "      <td>-0.000003</td>\n",
       "      <td>0.000021</td>\n",
       "      <td>0.000013</td>\n",
       "    </tr>\n",
       "  </tbody>\n",
       "</table>\n",
       "</div>"
      ],
      "text/plain": [
       "     n  mse_mean     lower     upper    yerr_lower    yerr_upper  dist_lower  \\\n",
       "0    2 -0.000299 -0.000307 -0.000292  7.496232e-06  6.931635e-06   -0.000526   \n",
       "1    3 -0.000220 -0.000225 -0.000216  4.625765e-06  4.364832e-06   -0.000391   \n",
       "2    4 -0.000092 -0.000095 -0.000090  2.110358e-06  2.291977e-06   -0.000171   \n",
       "3    5 -0.000098 -0.000101 -0.000095  2.983943e-06  3.335300e-06   -0.000210   \n",
       "4    6 -0.000040 -0.000042 -0.000039  1.545200e-06  1.482100e-06   -0.000088   \n",
       "5    7 -0.000042 -0.000044 -0.000040  2.319783e-06  1.887609e-06   -0.000078   \n",
       "6    8 -0.000034 -0.000039 -0.000030  4.850659e-06  3.850499e-06   -0.000141   \n",
       "7    9 -0.000025 -0.000028 -0.000022  3.152797e-06  2.498889e-06   -0.000063   \n",
       "8   10 -0.000024 -0.000028 -0.000020  4.022749e-06  3.580657e-06   -0.000081   \n",
       "9   11 -0.000015 -0.000016 -0.000014  1.146726e-06  9.722713e-07   -0.000040   \n",
       "10  12 -0.000012 -0.000012 -0.000011  4.793494e-07  4.513782e-07   -0.000026   \n",
       "11  13 -0.000013 -0.000013 -0.000012  8.400889e-07  6.746116e-07   -0.000029   \n",
       "12  14 -0.000015 -0.000017 -0.000014  1.342835e-06  1.202937e-06   -0.000033   \n",
       "13  15 -0.000016 -0.000017 -0.000015  1.360617e-06  1.206158e-06   -0.000037   \n",
       "\n",
       "    dist_upper  yerr_dist_lower  yerr_dist_upper  \n",
       "0    -0.000106         0.000227         0.000193  \n",
       "1    -0.000102         0.000171         0.000118  \n",
       "2    -0.000035         0.000079         0.000057  \n",
       "3    -0.000038         0.000112         0.000060  \n",
       "4    -0.000014         0.000047         0.000026  \n",
       "5    -0.000013         0.000036         0.000029  \n",
       "6    -0.000006         0.000106         0.000028  \n",
       "7    -0.000005         0.000038         0.000020  \n",
       "8    -0.000004         0.000058         0.000020  \n",
       "9    -0.000003         0.000025         0.000012  \n",
       "10   -0.000003         0.000014         0.000009  \n",
       "11   -0.000002         0.000016         0.000010  \n",
       "12   -0.000003         0.000017         0.000012  \n",
       "13   -0.000003         0.000021         0.000013  "
      ]
     },
     "execution_count": 12,
     "metadata": {},
     "output_type": "execute_result"
    }
   ],
   "source": [
    "filip_cv_final_df"
   ]
  },
  {
   "cell_type": "markdown",
   "metadata": {},
   "source": [
    "We visualize our mean-squared error scores, this time with proper error bars representing the 95% confidence interval for the mean scores:"
   ]
  },
  {
   "cell_type": "code",
   "execution_count": 13,
   "metadata": {},
   "outputs": [
    {
     "data": {
      "image/png": "[encoded data removed]",
      "text/plain": [
       "<Figure size 480x360 with 1 Axes>"
      ]
     },
     "metadata": {
      "needs_background": "light"
     },
     "output_type": "display_data"
    }
   ],
   "source": [
    "fig, ax = plt.subplots(dpi=120, figsize=(4, 3))\n",
    "facet_var, facet_id, facet_label, facet_ylim = (\"mse\", 0, r\"Mean-squared error\", (-0.00035, 0.0))\n",
    "sns.scatterplot(\n",
    "    x=\"n\",\n",
    "    y=f\"{facet_var}_mean\",\n",
    "    data=filip_cv_final_df,\n",
    "    ax=ax,\n",
    ")\n",
    "ax.errorbar(\n",
    "    filip_cv_final_df[\"n\"],\n",
    "    filip_cv_final_df[f\"{facet_var}_mean\"],\n",
    "    yerr=[filip_cv_final_df[\"yerr_lower\"], filip_cv_final_df[\"yerr_upper\"]],\n",
    ")\n",
    "ax.set_ylim(facet_ylim)\n",
    "ax.set_xlabel(r\"Polynomial degree\")\n",
    "ax.set_ylabel(facet_label)\n",
    "\n",
    "fig.tight_layout();"
   ]
  },
  {
   "cell_type": "markdown",
   "metadata": {},
   "source": [
    "The error bars are very tiny, smaller than the size of the points."
   ]
  },
  {
   "cell_type": "markdown",
   "metadata": {},
   "source": [
    "The visualization below shows the mean-squared error scores along with error bars that represent the spread of the cross-validation results (specifically, the middle 95%)."
   ]
  },
  {
   "cell_type": "code",
   "execution_count": 14,
   "metadata": {},
   "outputs": [
    {
     "data": {
      "image/png": "[encoded data removed]",
      "text/plain": [
       "<Figure size 480x360 with 1 Axes>"
      ]
     },
     "metadata": {
      "needs_background": "light"
     },
     "output_type": "display_data"
    }
   ],
   "source": [
    "fig, ax = plt.subplots(dpi=120, figsize=(4, 3))\n",
    "facet_var, facet_id, facet_label, facet_ylim = (\"mse\", 0, r\"Mean-squared error\", (-0.0006, 0.0))\n",
    "sns.scatterplot(\n",
    "    x=\"n\",\n",
    "    y=f\"{facet_var}_mean\",\n",
    "    data=filip_cv_final_df,\n",
    "    ax=ax,\n",
    ")\n",
    "ax.errorbar(\n",
    "    filip_cv_final_df[\"n\"],\n",
    "    filip_cv_final_df[f\"{facet_var}_mean\"],\n",
    "    yerr=[filip_cv_final_df[\"yerr_dist_lower\"], filip_cv_final_df[\"yerr_dist_upper\"]],\n",
    ")\n",
    "ax.set_ylim(facet_ylim)\n",
    "ax.set_xlabel(r\"Polynomial degree\")\n",
    "ax.set_ylabel(facet_label)\n",
    "\n",
    "fig.tight_layout();"
   ]
  }
 ],
 "metadata": {
  "celltoolbar": "Slideshow",
  "kernelspec": {
   "display_name": "Python 3",
   "language": "python",
   "name": "python3"
  },
  "language_info": {
   "codemirror_mode": {
    "name": "ipython",
    "version": 3
   },
   "file_extension": ".py",
   "mimetype": "text/x-python",
   "name": "python",
   "nbconvert_exporter": "python",
   "pygments_lexer": "ipython3",
   "version": "3.6.5"
  },
  "varInspector": {
   "cols": {
    "lenName": 16,
    "lenType": 16,
    "lenVar": 40
   },
   "kernels_config": {
    "python": {
     "delete_cmd_postfix": "",
     "delete_cmd_prefix": "del ",
     "library": "var_list.py",
     "varRefreshCmd": "print(var_dic_list())"
    },
    "r": {
     "delete_cmd_postfix": ") ",
     "delete_cmd_prefix": "rm(",
     "library": "var_list.r",
     "varRefreshCmd": "cat(var_dic_list()) "
    }
   },
   "types_to_exclude": [
    "module",
    "function",
    "builtin_function_or_method",
    "instance",
    "_Feature"
   ],
   "window_display": false
  }
 },
 "nbformat": 4,
 "nbformat_minor": 2
}
