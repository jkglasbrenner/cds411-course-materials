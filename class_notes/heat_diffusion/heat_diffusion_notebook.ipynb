{
 "cells": [
  {
   "cell_type": "markdown",
   "metadata": {},
   "source": [
    "![CDS 411 logo](../../img/cds-411-logo.png)\n",
    "\n",
    "# Cellular automata I: Heat diffusion\n",
    "\n",
    "---\n",
    "\n",
    "![CC BY-SA 4.0 license](../../img/cc-by-sa.png)\n",
    "\n",
    "This notebook is licensed under a [Creative Commons Attribution-ShareAlike 4.0 International License](http://creativecommons.org/licenses/by-sa/4.0/)."
   ]
  },
  {
   "cell_type": "markdown",
   "metadata": {},
   "source": [
    "## Load packages"
   ]
  },
  {
   "cell_type": "code",
   "execution_count": 1,
   "metadata": {},
   "outputs": [],
   "source": [
    "%matplotlib inline\n",
    "\n",
    "from pathlib import Path\n",
    "\n",
    "import matplotlib.pyplot as plt\n",
    "from matplotlib import animation, rc\n",
    "import numpy as np\n",
    "import pandas as pd\n",
    "import seaborn as sns\n",
    "from IPython.display import HTML\n",
    "\n",
    "rc(\"animation\", html=\"html5\")\n",
    "\n",
    "np.random.seed(1189773503)"
   ]
  },
  {
   "cell_type": "markdown",
   "metadata": {},
   "source": [
    "## Background: Heat Diffusion"
   ]
  },
  {
   "cell_type": "markdown",
   "metadata": {},
   "source": [
    "We will be building a cellular automata simulation of the diffusion of heat within a bar. Unlike a system dynamics model, this simulation will allow us to observe the heat flow at different positions within the bar. In effect, we will be able to simulate what the temperature of the bar will be not only at a given time, but at a given position in the bar.\n",
    "\n",
    "The general idea of what we want to do is to to scale down **Newton's law of heating and cooling**. This states that the rate of change of the temperature with respect to time of an object is proportional to the difference between the temperature of the object and temperature of its surroundings. In the context of cellular automata, a cell's *surroundings* is defined by its surrounding neighbors in a grid."
   ]
  },
  {
   "cell_type": "markdown",
   "metadata": {},
   "source": [
    "![Two-dimensional heat transfer schematic](../../img/two-dimensional-heat-transfer.jpg)"
   ]
  },
  {
   "cell_type": "markdown",
   "metadata": {},
   "source": [
    "There's different ways to define a cell's surroundings, or neighborhood. For our purposes, we will use the so-called **Moore neighborhood**, which consists of a cell's NW, N, NE, W, E, SW, S, and SE neighbors:"
   ]
  },
  {
   "cell_type": "markdown",
   "metadata": {},
   "source": [
    "<table>\n",
    "<tbody align=\"center\">\n",
    "  <tr>\n",
    "    <td>NW</td>\n",
    "    <td>N</td>\n",
    "    <td>NE</td>\n",
    "  </tr>\n",
    "  <tr>\n",
    "    <td>W</td>\n",
    "    <td>site</td>\n",
    "    <td>E</td>\n",
    "  </tr>\n",
    "  <tr>\n",
    "    <td>SW</td>\n",
    "    <td>S</td>\n",
    "    <td>SE</td>\n",
    "  </tr>\n",
    "</tbody>\n",
    "</table>"
   ]
  },
  {
   "cell_type": "markdown",
   "metadata": {},
   "source": [
    "Having decided upon this, the simulation will require us to apply the diffusion formula to every site for each time step will be as follows:\n",
    "\n",
    "$$\n",
    "\\dfrac{T_{m,n}^{i+1}-T_{m,n}^{i}}{\\tau}=\\sum_{m',n'}^{\\text{neighborhood}}\\left(T_{m',n'}^{i}-T_{m,n}^{i}\\right)+\\dfrac{\\dot{e}_{m,n}^{i}l^{2}}{k}\n",
    "$$\n",
    "\n",
    "where $\\tau=\\dfrac{\\alpha}{l^2}\\Delta{}t$ is the so-called dimensionless mesh Fourier number, $\\alpha=\\dfrac{k}{\\rho c}$ is the thermal diffusivity, $k$ is the material's thermal conductivity, $\\rho$ is the material's density, and $c$ is the material's specific heat. $\\dot{e}_{node}^i$ is the *rate of heat generation* within the cell and $l$ is the cell's length, $l=\\Delta{}x=\\Delta{}y$. Note that the term *rate of heat generation* corresponds to the rate at which other forms of energy are converted into thermal energy. This may include things like chemical reactions, heat energy from biological processes, and electrical current.\n",
    "\n",
    "By rewriting the formula slightly, the connection of this expression with the finite difference equation becomes clear:\n",
    "\n",
    "$$\n",
    "T_{m,n}^{i+1}=T_{m,n}^{i}+\\tau\\left[\\sum_{m',n'}^{\\text{neighborhood}}\\left(T_{m',n'}^{i}-T_{m,n}^{i}\\right)+\\dfrac{\\dot{e}_{m,n}^{i}l^{2}}{k}\\right]\n",
    "$$"
   ]
  },
  {
   "cell_type": "markdown",
   "metadata": {},
   "source": [
    "Applying the Moore neighborhood to our finite difference equation and assuming that $\\dot{e}_{m,n}^{i}=0$ for all cells and for the entire simulation, the expression reduces to:\n",
    "\n",
    "$$\n",
    "T_{m,n}^{i+1}=\\left(1-8\\tau\\right)T_{m,n}^{i}+\\tau\\sum_{m',n'}^{\\text{Moore}}T_{m',n'}^{i}\n",
    "$$\n",
    "\n",
    "If we explicitly write out all the terms for the summation over the Moore neighborhood, we get:\n",
    "\n",
    "$$\n",
    "T_{m,n}^{i+1}=\\left(1-8\\tau\\right)T_{m,n}^{i}+\\tau\\left(T_{m+1,n}+T_{m,n+1}+T_{m-1,n}+T_{m,n-1}+T_{m+1,n+1}+T_{m-1,n+1}+T_{m+1,n-1}+T_{m-1,n-1}\\right)\n",
    "$$"
   ]
  },
  {
   "cell_type": "markdown",
   "metadata": {},
   "source": [
    "### Stability criterion\n",
    "\n",
    "For the simulation to be stable, the following inequality must be satisfied: \n",
    "\n",
    "$$\n",
    "\\tau=\\dfrac{\\alpha\\Delta{}t}{l^2}\\leq\\frac{1}{\\text{number of neighbors}}\n",
    "$$"
   ]
  },
  {
   "cell_type": "markdown",
   "metadata": {},
   "source": [
    "## Building up our cellular automata simulation"
   ]
  },
  {
   "cell_type": "code",
   "execution_count": 2,
   "metadata": {},
   "outputs": [],
   "source": [
    "def apply_hot_cold(bar, hot_sites, cold_sites, hot, cold):\n",
    "    \"\"\"Apply hot and cold temperatures to listed sites.\n",
    "    \n",
    "    Parameters\n",
    "    ----------\n",
    "    bar : np.array\n",
    "        A grid of temperatures\n",
    "        \n",
    "    hot_sites : list\n",
    "        A list of coordinates inside the `bar` grid that have temperature\n",
    "        `hot`\n",
    "        \n",
    "    cold_sites : list\n",
    "        A list of coordinates inside the `bar` grid that have temperature\n",
    "        `cold`\n",
    "        \n",
    "    hot : float\n",
    "        The initial temperature of each coordinate in `hot_sites`\n",
    "        \n",
    "    cold : float\n",
    "        The initial temperature of each coordinate in `cold_sites`\n",
    "        \n",
    "    Returns\n",
    "    -------\n",
    "    new_bar : np.array\n",
    "        `bar` grid of temperatures updated with hot and cold sites\n",
    "    \"\"\"\n",
    "    # grid dimensions\n",
    "    m, n = bar.shape\n",
    "\n",
    "    # without copying, changing new_bar will also change bar\n",
    "    new_bar = bar.copy()\n",
    "\n",
    "    # site numbers count from left to right, going row by row\n",
    "    #\n",
    "    # find site index by using dimension n in combination with integer\n",
    "    # division and the modulus operator\n",
    "    new_bar[hot_sites // n, hot_sites % n] = hot\n",
    "    new_bar[cold_sites // n, cold_sites % n] = cold\n",
    "\n",
    "    # Output the updated temperature grid\n",
    "    return new_bar"
   ]
  },
  {
   "cell_type": "code",
   "execution_count": 3,
   "metadata": {},
   "outputs": [],
   "source": [
    "def init_bar(m, n, hot_sites, cold_sites, hot, cold, ambient):\n",
    "    \"\"\"Initialize an m ⨉ n grid of temperatures.\n",
    "    \n",
    "    Cells with coordinates in `hot_sites` have the value `hot`; cells with\n",
    "    coordinates in cold_sites have the value `cold`; and all other cells have\n",
    "    the value `ambient`.\n",
    "    \n",
    "    Parameters\n",
    "    ----------\n",
    "    m : int\n",
    "        Number of rows in the grid\n",
    "        \n",
    "    n : int\n",
    "        Number of columns in the grid\n",
    "\n",
    "    hot_sites : list\n",
    "        List of sites inside the `bar` grid that have temperature `hot`\n",
    "\n",
    "    cold_sites : list\n",
    "        List of sites inside the `bar` grid that have temperature `cold`\n",
    "\n",
    "    hot : float\n",
    "        The initial temperature of the `hot_sites`\n",
    "\n",
    "    cold : float\n",
    "        The initial temperature of the `cold_sites`\n",
    "        \n",
    "    ambient : float\n",
    "        The initial temperature for all other sites\n",
    "        \n",
    "    Returns\n",
    "    -------\n",
    "    bar : np.array\n",
    "        Grid of temperatures containing the specified hot, cold, and ambient\n",
    "        sites\n",
    "    \"\"\"\n",
    "    # create numpy array with dimensions (m, n) and fill with ambient\n",
    "    # temperature\n",
    "    ambient_bar = np.full((m, n), ambient, dtype=np.float64)\n",
    "    \n",
    "    # update specified hot and cold sites with appropriate temperatures and\n",
    "    # output the temperature grid\n",
    "    return apply_hot_cold(ambient_bar, hot_sites, cold_sites, hot, cold)"
   ]
  },
  {
   "cell_type": "markdown",
   "metadata": {},
   "source": [
    "Let's test that the above functions are working as desired. Let's assume a $10\\times{}30$ grid, and set the ambient temperature to $25^{\\circ}\\text{C}$, the hot temperature to $50^{\\circ}\\text{C}$, and the cold temperature to $0^{\\circ}\\text{C}$. All sites will be ambient except for the following:\n",
    "\n",
    "*   **Hot sites**: 278, 279, 280, 281, 282\n",
    "*   **Cold sites**: 22, 90, 120, 150"
   ]
  },
  {
   "cell_type": "code",
   "execution_count": 4,
   "metadata": {},
   "outputs": [],
   "source": [
    "bar = init_bar(\n",
    "    m=10, n=30, hot_sites=np.array([278, 279, 280, 281, 282]),\n",
    "    cold_sites=np.array([22, 90, 120, 150]), hot=50, cold=0, ambient=25)"
   ]
  },
  {
   "cell_type": "markdown",
   "metadata": {},
   "source": [
    "Since the bar's grid is relatively small, a reasonable approach would be to print the contents of the `bar` array to check if `init_bar()` worked as desired. However, it's even better to inspect using a visualization, as this can be easily scaled to any size bar. A good visualization choice is to plot a heatmap of the grid (with no interpolation), which we can do using the matplotlib code snippet contained in the function below."
   ]
  },
  {
   "cell_type": "code",
   "execution_count": 5,
   "metadata": {},
   "outputs": [],
   "source": [
    "def visualize_bar(bar, cmap=\"afmhot\", fig_width=18, fig_height=6):\n",
    "    \"\"\"Visualize a rectangular 2D numpy array using a heatmap.\n",
    "\n",
    "    Parameters\n",
    "    ----------\n",
    "    bar : np.array\n",
    "        A grid of temperatures\n",
    "    \n",
    "    cmap : str\n",
    "        Color scheme for the heatmap scale, see colormaps_ reference.\n",
    "        \n",
    "    fig_width : float\n",
    "        Figure width in inches\n",
    "        \n",
    "    fig_height : float\n",
    "        Figure height in inches\n",
    "        \n",
    "    Returns\n",
    "    -------\n",
    "    fig, ax : tuple of plt.figure and plt.subplot\n",
    "        Matplotlib figure and subplot axis objects\n",
    "        \n",
    "    .. _colormaps: https://matplotlib.org/examples/color/colormaps_reference.html \n",
    "    \"\"\"\n",
    "    # grid dimensions\n",
    "    m, n = bar.shape\n",
    "\n",
    "    # create matplotlib figure and subplot objects\n",
    "    fig, ax = plt.subplots(figsize=(fig_width, fig_height))\n",
    "\n",
    "    # imshow visualizes array as a two-dimensionl uniform grid\n",
    "    im = ax.imshow(bar, cmap=cmap, interpolation=\"nearest\")\n",
    "\n",
    "    # show reference colorbar\n",
    "    cbar = fig.colorbar(mappable=im, orientation=\"vertical\")\n",
    "\n",
    "    # find the starting and ending coordinates for heatmap for creating\n",
    "    # grid lines\n",
    "    xticks_start, xticks_end = ax.get_xlim();\n",
    "    yticks_start, yticks_end = ax.get_ylim();\n",
    "\n",
    "    # separate grid cells by white lines\n",
    "    ax.xaxis.set_ticks(np.linspace(xticks_start, xticks_end, n + 1),\n",
    "                       minor=False);\n",
    "    ax.yaxis.set_ticks(np.linspace(yticks_start, yticks_end, m + 1),\n",
    "                       minor=False);\n",
    "    ax.axes.grid(True, linestyle=\"-\", linewidth=1, color=\"white\",\n",
    "                 which=\"major\");\n",
    "    \n",
    "    # we don't need ticks and tick labels because we have grid lines\n",
    "    ax.tick_params(labelbottom = False, labelleft=False, bottom=False,\n",
    "                   left=False);\n",
    "    \n",
    "    # Return matplotlib figure and subplot objects\n",
    "    return fig, ax"
   ]
  },
  {
   "cell_type": "markdown",
   "metadata": {},
   "source": [
    "So, for our example, we get the following heatmap:"
   ]
  },
  {
   "cell_type": "code",
   "execution_count": 6,
   "metadata": {},
   "outputs": [
    {
     "data": {
      "image/png": "[encoded data removed]",
      "text/plain": [
       "<Figure size 1296x432 with 2 Axes>"
      ]
     },
     "metadata": {
      "needs_background": "light"
     },
     "output_type": "display_data"
    }
   ],
   "source": [
    "visualize_bar(bar);"
   ]
  },
  {
   "cell_type": "markdown",
   "metadata": {},
   "source": [
    "This is exactly what we expected to see."
   ]
  },
  {
   "cell_type": "markdown",
   "metadata": {},
   "source": [
    "## Boundary conditions"
   ]
  },
  {
   "cell_type": "markdown",
   "metadata": {},
   "source": [
    "There are a few different kinds of boundary conditions we could choose, which include\n",
    "\n",
    "1.  Absorbing boundary conditions\n",
    "2.  Reflecting boundary conditions\n",
    "3.  Periodic boundary conditions\n",
    "\n",
    "In this ongoing example, we will implement the **reflecting boundary conditions**.\n",
    "\n",
    "In practice, implementing the absorbing or reflecting boundary conditions will require the use of **ghost cells**. You can also use ghost cells for periodic boundary conditions, but it isn't required. The following function sets up the ghost cells in `numpy`:"
   ]
  },
  {
   "cell_type": "code",
   "execution_count": 7,
   "metadata": {},
   "outputs": [],
   "source": [
    "def boundary_condition(bar, condition=\"reflecting\"):\n",
    "    \"\"\"Setup ghost cells for boundary condition.\n",
    "    \n",
    "    Parameters\n",
    "    ----------\n",
    "    bar : np.array\n",
    "        A grid of temperatures\n",
    "        \n",
    "    condition : str, optional\n",
    "        The boundary condition to use when creating ghost cells.\n",
    "    \"\"\"\n",
    "    if condition == \"reflecting\":\n",
    "        extended_bar = np.pad(array=bar, pad_width=(1, 1), mode='edge')\n",
    "\n",
    "    else:\n",
    "        raise ValueError(\n",
    "            \"{0} is not a valid boundary condition\".format(condition))\n",
    "\n",
    "    return extended_bar"
   ]
  },
  {
   "cell_type": "markdown",
   "metadata": {},
   "source": [
    "After adding the ghost cells, we now have an extended bar. With this set up, we can now go through each site and look up the neighboring temperatures in the Moore neighborhood. We can do this efficiently using `numpy`:"
   ]
  },
  {
   "cell_type": "code",
   "execution_count": 8,
   "metadata": {},
   "outputs": [],
   "source": [
    "def get_neighbor_temperatures(extended_bar,\n",
    "                              ghost_width=(1, 1),\n",
    "                              neighborhood=\"moore\"):\n",
    "    \"\"\"Get the temperature of each site's neighbors in a single sweep.\n",
    "    \n",
    "    Paramters\n",
    "    ---------\n",
    "    extended_bar : np.array\n",
    "        A grid of temperatures with ghost cells\n",
    "        \n",
    "    ghost_width : array-like\n",
    "        A number pair that specifies how many rows and columns make up the\n",
    "        ghost cell region\n",
    "        \n",
    "    neighborhood : str, optional\n",
    "        Determines which cells will be counted as neighbors\n",
    "        \n",
    "    Returns\n",
    "    -------\n",
    "    bar_with_neighbors : np.array\n",
    "        An array of temperatures for each site and its neighbors\n",
    "    \"\"\"\n",
    "    m_extended, n_extended = extended_bar.shape\n",
    "    m, n = (m_extended - ghost_width[0], n_extended - ghost_width[1])\n",
    "    \n",
    "    if neighborhood == \"moore\":\n",
    "        bar_with_neighbors = np.array([\n",
    "            np.roll(\n",
    "                extended_bar, shift=(1, 1),\n",
    "                axis=(1, 0))[ghost_width[0]:m, ghost_width[1]:n],\n",
    "            np.roll(\n",
    "                extended_bar, shift=(0, 1),\n",
    "                axis=(1, 0))[ghost_width[0]:m, ghost_width[1]:n],\n",
    "            np.roll(\n",
    "                extended_bar, shift=(-1, 1),\n",
    "                axis=(1, 0))[ghost_width[0]:m, ghost_width[1]:n],\n",
    "            np.roll(\n",
    "                extended_bar, shift=(1, 0),\n",
    "                axis=(1, 0))[ghost_width[0]:m, ghost_width[1]:n],\n",
    "            np.roll(\n",
    "                extended_bar, shift=(-1, 0),\n",
    "                axis=(1, 0))[ghost_width[0]:m, ghost_width[1]:n],\n",
    "            np.roll(\n",
    "                extended_bar, shift=(1, -1),\n",
    "                axis=(1, 0))[ghost_width[0]:m, ghost_width[1]:n],\n",
    "            np.roll(\n",
    "                extended_bar, shift=(0, -1),\n",
    "                axis=(1, 0))[ghost_width[0]:m, ghost_width[1]:n],\n",
    "            np.roll(\n",
    "                extended_bar, shift=(-1, -1),\n",
    "                axis=(1, 0))[ghost_width[0]:m, ghost_width[1]:n]])\n",
    "\n",
    "    else:\n",
    "        raise ValueError(\n",
    "            \"{0} is not a valid type of neighborhood\".format(condition))\n",
    "\n",
    "    return bar_with_neighbors"
   ]
  },
  {
   "cell_type": "markdown",
   "metadata": {},
   "source": [
    "Now that we've collected all the temperatures of each cell's neighbors, we apply our diffusion formula,\n",
    "\n",
    "$$\n",
    "\\begin{aligned}\n",
    "T_{m,n}^{i+1}&=\\left(1-8\\tau\\right)T_{m,n}^{i}+\\tau\\sum_{m',n'}^{\\text{Moore}}T_{m',n'}^{i} \\\\\n",
    "&=\\left(1-8\\tau\\right)T_{m,n}^{i}+\\tau\\left(T_{m+1,n}+T_{m,n+1}+T_{m-1,n}+T_{m,n-1}+T_{m+1,n+1}+T_{m-1,n+1}+T_{m+1,n-1}+T_{m-1,n-1}\\right)\n",
    "\\end{aligned}\n",
    "$$\n",
    "\n",
    "to each site in the grid. As usual, we can do this efficiently with `numpy` and vectorization. Note that we do not have any `for` loops below."
   ]
  },
  {
   "cell_type": "code",
   "execution_count": 9,
   "metadata": {},
   "outputs": [],
   "source": [
    "def diffusion(bar, bar_neighbors, diffusion_rate):\n",
    "    \"\"\"Update site temperatures using Newton's law of heating and cooling.\n",
    "    \n",
    "    Parameters\n",
    "    ----------\n",
    "    bar : np.array\n",
    "        A grid of temperatures\n",
    "\n",
    "    bar_neighbors : np.array\n",
    "        An array of temperatures for each site and its neighbors\n",
    "\n",
    "    diffusion_rate : float\n",
    "        Paramter measuring ease of temperature flow from hot to cold sites.\n",
    "        \n",
    "    Returns\n",
    "    -------\n",
    "    bar_update : np.array\n",
    "        A grid of temperatures after applying Newton's law of heating and\n",
    "        cooling to all grid sites.\n",
    "    \"\"\"\n",
    "    num_neighbors, m, n = bar_neighbors.shape\n",
    "    \n",
    "    bar_update = (\n",
    "        (1 - num_neighbors * diffusion_rate) * bar +\n",
    "        diffusion_rate * np.sum(a=bar_neighbors, axis=0))\n",
    "\n",
    "    return bar_update"
   ]
  },
  {
   "cell_type": "markdown",
   "metadata": {},
   "source": [
    "Now we sweep over all lattice points. In addition to the diffusion routine defined above, we reset the hot and cold points so that they stayed fixed at their respective temperatures. We also append the updated grid to the `simulation_history` list so that we can animate the diffusion simulation."
   ]
  },
  {
   "cell_type": "code",
   "execution_count": 10,
   "metadata": {},
   "outputs": [],
   "source": [
    "def sweep(bar, diffusion_rate, hot_sites, cold_sites, hot, cold, nstep,\n",
    "          simulation_history):\n",
    "    \"\"\"Sweep over grid and update temperatures.\n",
    "    \n",
    "    Parameters\n",
    "    ----------\n",
    "    bar : np.array\n",
    "        A grid of temperatures\n",
    "\n",
    "    diffusion_rate : float\n",
    "        Paramter measuring ease of temperature flow from hot to cold sites.\n",
    "\n",
    "    hot_sites : list\n",
    "        A list of coordinates inside the `bar` grid that have temperature\n",
    "        `hot`\n",
    "\n",
    "    cold_sites : list\n",
    "        A list of coordinates inside the `bar` grid that have temperature\n",
    "        `cold`\n",
    "\n",
    "    hot : float\n",
    "        The initial temperature of each coordinate in `hot_sites`\n",
    "\n",
    "    cold : float\n",
    "        The initial temperature of each coordinate in `cold_sites`\n",
    "\n",
    "    simulation_history : list\n",
    "        Time-step history for the simulation's run.\n",
    "    \"\"\"\n",
    "    extended_bar = boundary_condition(bar) \n",
    "    bar_neighbors = get_neighbor_temperatures(extended_bar)\n",
    "    bar_diffused = diffusion(bar, bar_neighbors, diffusion_rate)\n",
    "    bar_full_update = apply_hot_cold(\n",
    "        bar_diffused, hot_sites, cold_sites, hot, cold)\n",
    "    bar[:, :] = bar_full_update\n",
    "    simulation_history.append([nstep, bar_full_update])"
   ]
  },
  {
   "cell_type": "markdown",
   "metadata": {},
   "source": [
    "## Simulation Program"
   ]
  },
  {
   "cell_type": "markdown",
   "metadata": {},
   "source": [
    "Finally, we bring it all together into a function that runs the full simulation from start to finish. This is where we put our `for` loop over time."
   ]
  },
  {
   "cell_type": "code",
   "execution_count": 11,
   "metadata": {},
   "outputs": [],
   "source": [
    "def diffusion_simulation(number_time_steps, m, n, hot_sites, cold_sites, hot,\n",
    "                         cold, ambient, diffusion_rate):\n",
    "    \"\"\"Run temperature diffusion simulation.\n",
    "    \n",
    "    Parameters\n",
    "    ----------\n",
    "    number_time_steps : int\n",
    "        Sets the number of time steps over which to run a simulation.\n",
    "\n",
    "    m : int\n",
    "        Number of rows in the grid\n",
    "        \n",
    "    n : int\n",
    "        Number of columns in the grid\n",
    "\n",
    "    hot_sites : list\n",
    "        List of sites inside the `bar` grid that have temperature `hot`\n",
    "\n",
    "    cold_sites : list\n",
    "        List of sites inside the `bar` grid that have temperature `cold`\n",
    "\n",
    "    hot : float\n",
    "        The initial temperature of the `hot_sites`\n",
    "\n",
    "    cold : float\n",
    "        The initial temperature of the `cold_sites`\n",
    "        \n",
    "    ambient : float\n",
    "        The initial temperature for all other sites\n",
    "\n",
    "    diffusion_rate : float\n",
    "        Paramter measuring ease of temperature flow from hot to cold sites\n",
    "    \n",
    "    Returns\n",
    "    -------\n",
    "    simulation_history : list\n",
    "        The temperature grid as a function of time during the temperature\n",
    "        diffusion simulation\n",
    "    \"\"\"\n",
    "    # Initialize bar according to parameters\n",
    "    bar = init_bar(\n",
    "        m=m, n=n, hot_sites=hot_sites, cold_sites=cold_sites, hot=hot,\n",
    "        cold=cold, ambient=ambient)\n",
    "\n",
    "    # Initialize record keeper for the simulation history\n",
    "    simulation_history = [[0, bar.copy()]]\n",
    "\n",
    "    # Run simulation for specified number of time steps\n",
    "    for nstep in np.arange(number_time_steps):\n",
    "        sweep(bar=bar, diffusion_rate=diffusion_rate, hot_sites=hot_sites,\n",
    "              cold_sites=cold_sites, hot=hot, cold=cold, nstep=nstep,\n",
    "              simulation_history=simulation_history)\n",
    "\n",
    "    return simulation_history"
   ]
  },
  {
   "cell_type": "markdown",
   "metadata": {},
   "source": [
    "## Display Simulation"
   ]
  },
  {
   "cell_type": "markdown",
   "metadata": {},
   "source": [
    "Having successfully run our simulation, now we would like to see it in action! The code below is similar to the animation we created for the Random Walk in module 9.5. We advance each frame of the animation by incrementing the index on `simulation_history` by 1."
   ]
  },
  {
   "cell_type": "code",
   "execution_count": 12,
   "metadata": {},
   "outputs": [],
   "source": [
    "def diffusion_animation(simulation_history, cmap=\"afmhot\", fig_width=12,\n",
    "                        fig_height=4):\n",
    "    \"\"\"Animate the temperature diffusion simulation using Matplotlib.\n",
    "\n",
    "    Parameters\n",
    "    ----------\n",
    "    simulation_history : list\n",
    "        Time-step history for the simulation's run.\n",
    "    \n",
    "    cmap : str, optional\n",
    "        Color scheme for the heatmap scale, see colormaps_ reference.\n",
    "        \n",
    "    fig_width : float, optional\n",
    "        Figure width in inches\n",
    "        \n",
    "    fig_height : float, optional\n",
    "        Figure height in inches\n",
    "        \n",
    "    Returns\n",
    "    -------\n",
    "    anim : matplotlib.animation.FuncAnimation\n",
    "        Animated object for the simulation run.\n",
    "        \n",
    "    .. _colormaps: https://matplotlib.org/examples/color/colormaps_reference.html \n",
    "    \"\"\"\n",
    "    # grid dimensions\n",
    "    m, n = simulation_history[0][1].shape\n",
    "\n",
    "    # create matplotlib figure and subplot objects\n",
    "    fig, ax = plt.subplots(figsize=(fig_width, fig_height))\n",
    "\n",
    "    # imshow visualizes array as a two-dimensionl uniform grid\n",
    "    im = ax.imshow(bar, cmap=cmap, interpolation=\"nearest\")\n",
    "\n",
    "    # show reference colorbar\n",
    "    cbar = fig.colorbar(mappable=im, orientation=\"vertical\")\n",
    "\n",
    "    # find the starting and ending coordinates for heatmap for creating\n",
    "    # grid lines\n",
    "    xticks_start, xticks_end = ax.get_xlim();\n",
    "    yticks_start, yticks_end = ax.get_ylim();\n",
    "\n",
    "    # separate grid cells by white lines\n",
    "    ax.xaxis.set_ticks(np.linspace(xticks_start, xticks_end, n + 1),\n",
    "                       minor=False);\n",
    "    ax.yaxis.set_ticks(np.linspace(yticks_start, yticks_end, m + 1),\n",
    "                       minor=False);\n",
    "    ax.axes.grid(True, linestyle=\"-\", linewidth=1, color=\"white\",\n",
    "                 which=\"major\");\n",
    "    \n",
    "    # we don't need ticks and tick labels because we have grid lines\n",
    "    ax.tick_params(labelbottom = False, labelleft=False, bottom=False,\n",
    "                   left=False);\n",
    "    \n",
    "    # Initialization function, clears out the data on the im object\n",
    "    def init():\n",
    "        im.set_array(np.array([[]]))\n",
    "        return (im, )\n",
    "\n",
    "\n",
    "    # Animation function. Input i is the frame number of the animation, and is\n",
    "    # to be used for referencing how the data changes over time\n",
    "    def animate(i):\n",
    "        # Get the simulation history at time step i and set as the underlying\n",
    "        # data for the im object\n",
    "        bar_i = simulation_history[i][1]\n",
    "        im.set_array(bar_i)\n",
    "\n",
    "        return (im, )\n",
    "\n",
    "    # Suppress static matplotlib window\n",
    "    plt.close()\n",
    "    \n",
    "    # Use animation.FuncAnimation to put the animation together.\n",
    "    # frames controls the number of frames in the movie.\n",
    "    # interval controls the delay in milliseconds inbetween each frame\n",
    "    # blit optimizes the animation size by only storing the changes between\n",
    "    # frames instead of as a series of full plots\n",
    "    anim = animation.FuncAnimation(fig=fig, func=animate,\n",
    "                                   frames=len(simulation_history),\n",
    "                                   init_func=init, interval=100, blit=True);\n",
    "\n",
    "    return anim"
   ]
  },
  {
   "cell_type": "markdown",
   "metadata": {},
   "source": [
    "## Example Run"
   ]
  },
  {
   "cell_type": "markdown",
   "metadata": {},
   "source": [
    "Now that all the pieces are in place, let's run the simulation with the following initial parameters, which match the parameters suggested on page 429 of the textbook."
   ]
  },
  {
   "cell_type": "code",
   "execution_count": 13,
   "metadata": {},
   "outputs": [],
   "source": [
    "m, n = (10, 30)\n",
    "hot, cold, ambient = (50, 0, 25)\n",
    "hot_sites = np.array([278, 279, 280, 281, 282])\n",
    "cold_sites = np.array([22, 90, 120, 150])\n",
    "diffusion_rate = 0.1\n",
    "number_time_steps = 50\n",
    "simulation_history = diffusion_simulation(\n",
    "    number_time_steps=number_time_steps, m=m, n=n, hot_sites=hot_sites,\n",
    "    cold_sites=cold_sites, hot=hot, cold=cold, ambient=ambient,\n",
    "    diffusion_rate=diffusion_rate)"
   ]
  },
  {
   "cell_type": "markdown",
   "metadata": {},
   "source": [
    "We then build our animation:"
   ]
  },
  {
   "cell_type": "code",
   "execution_count": 14,
   "metadata": {},
   "outputs": [],
   "source": [
    "anim = diffusion_animation(simulation_history)"
   ]
  },
  {
   "cell_type": "markdown",
   "metadata": {},
   "source": [
    "And view it:"
   ]
  },
  {
   "cell_type": "code",
   "execution_count": null,
   "metadata": {},
   "outputs": [],
   "source": [
    "HTML(anim.to_html5_video())"
   ]
  },
  {
   "cell_type": "markdown",
   "metadata": {},
   "source": [
    "## Basic analysis of simulation outputs"
   ]
  },
  {
   "cell_type": "code",
   "execution_count": 16,
   "metadata": {},
   "outputs": [],
   "source": [
    "middle_column_over_time = []\n",
    "middle_row_over_time = []\n",
    "check_correlation = []\n",
    "for time_step in simulation_history:\n",
    "    middle_column_over_time.append([time_step[0], time_step[1][:, 14]])\n",
    "    middle_row_over_time.append([time_step[0], time_step[1][4, :]])\n",
    "    check_correlation.append([time_step[1][7, 5], time_step[1][5, 9]])"
   ]
  },
  {
   "cell_type": "code",
   "execution_count": 17,
   "metadata": {},
   "outputs": [
    {
     "data": {
      "text/plain": [
       "array([25., 25., 25., 25., 25., 25., 25., 25., 25., 25.])"
      ]
     },
     "execution_count": 17,
     "metadata": {},
     "output_type": "execute_result"
    }
   ],
   "source": [
    "middle_column_over_time[0][1]"
   ]
  },
  {
   "cell_type": "code",
   "execution_count": 18,
   "metadata": {},
   "outputs": [
    {
     "data": {
      "image/png": "[encoded data removed]",
      "text/plain": [
       "<Figure size 720x480 with 1 Axes>"
      ]
     },
     "metadata": {
      "needs_background": "light"
     },
     "output_type": "display_data"
    }
   ],
   "source": [
    "fig, ax = plt.subplots(figsize=(6,4), dpi=120)\n",
    "\n",
    "ax.plot(np.arange(10), middle_column_over_time[0][1], '-o');\n",
    "ax.plot(np.arange(10), middle_column_over_time[10][1], '-o');\n",
    "ax.plot(np.arange(10), middle_column_over_time[20][1], '-o');\n",
    "ax.plot(np.arange(10), middle_column_over_time[50][1], '-o');\n",
    "\n",
    "ax.set_ylim([0, 40]);"
   ]
  },
  {
   "cell_type": "code",
   "execution_count": 19,
   "metadata": {},
   "outputs": [
    {
     "data": {
      "image/png": "[encoded data removed]",
      "text/plain": [
       "<Figure size 720x480 with 1 Axes>"
      ]
     },
     "metadata": {
      "needs_background": "light"
     },
     "output_type": "display_data"
    }
   ],
   "source": [
    "fig, ax = plt.subplots(figsize=(6,4), dpi=120)\n",
    "\n",
    "ax.plot(np.arange(30), middle_row_over_time[0][1], '-o');\n",
    "ax.plot(np.arange(30), middle_row_over_time[10][1], '-o');\n",
    "ax.plot(np.arange(30), middle_row_over_time[20][1], '-o');\n",
    "ax.plot(np.arange(30), middle_row_over_time[50][1], '-o');\n",
    "\n",
    "ax.set_ylim([0, 40]);"
   ]
  },
  {
   "cell_type": "code",
   "execution_count": 20,
   "metadata": {},
   "outputs": [
    {
     "data": {
      "image/png": "[encoded data removed]",
      "text/plain": [
       "<Figure size 720x480 with 1 Axes>"
      ]
     },
     "metadata": {
      "needs_background": "light"
     },
     "output_type": "display_data"
    }
   ],
   "source": [
    "check_correlation = np.array(check_correlation)\n",
    "fig, ax = plt.subplots(figsize=(6,4), dpi=120)\n",
    "\n",
    "ax.plot(check_correlation[:, 0], check_correlation[:, 1], '-o');"
   ]
  },
  {
   "cell_type": "markdown",
   "metadata": {},
   "source": [
    "## Credits"
   ]
  },
  {
   "cell_type": "markdown",
   "metadata": {},
   "source": [
    "*   Dr. Will Holmes, [\"Heat Diffusion Example using Cellular Automaton\" Jupyter notebook](https://github.com/Learning-Computational-Science/Cellular_Automaton/blob/master/CA_Heat_Diffusion.ipynb)"
   ]
  }
 ],
 "metadata": {
  "kernelspec": {
   "display_name": "Python 3",
   "language": "python",
   "name": "python3"
  },
  "language_info": {
   "codemirror_mode": {
    "name": "ipython",
    "version": 3
   },
   "file_extension": ".py",
   "mimetype": "text/x-python",
   "name": "python",
   "nbconvert_exporter": "python",
   "pygments_lexer": "ipython3",
   "version": "3.6.5"
  }
 },
 "nbformat": 4,
 "nbformat_minor": 2
}
