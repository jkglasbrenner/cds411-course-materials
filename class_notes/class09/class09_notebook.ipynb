{
 "cells": [
  {
   "cell_type": "markdown",
   "metadata": {
    "cell_style": "center",
    "slideshow": {
     "slide_type": "slide"
    }
   },
   "source": [
    "![CDS 411 logo](../../img/cds-411-logo.png)\n",
    "\n",
    "# Class 9: System dynamics models: Drug dosage I\n",
    "\n",
    "---\n",
    "\n",
    "![CC BY-SA 4.0 license](../../img/cc-by-sa.png)\n",
    "\n",
    "This notebook is licensed under a [Creative Commons Attribution-ShareAlike 4.0 International License](http://creativecommons.org/licenses/by-sa/4.0/)."
   ]
  },
  {
   "cell_type": "markdown",
   "metadata": {
    "cell_style": "center",
    "slideshow": {
     "slide_type": "slide"
    }
   },
   "source": [
    "## Load packages"
   ]
  },
  {
   "cell_type": "code",
   "execution_count": 1,
   "metadata": {
    "cell_style": "center",
    "slideshow": {
     "cell_style": "split",
     "slide_type": "-"
    }
   },
   "outputs": [],
   "source": [
    "%matplotlib inline\n",
    "\n",
    "import matplotlib.pyplot as plt\n",
    "import numpy as np\n",
    "import pandas as pd"
   ]
  },
  {
   "cell_type": "markdown",
   "metadata": {
    "slideshow": {
     "slide_type": "slide"
    }
   },
   "source": [
    "## Background"
   ]
  },
  {
   "cell_type": "markdown",
   "metadata": {
    "slideshow": {
     "slide_type": "slide"
    }
   },
   "source": [
    "### Pharmacokinetics\n",
    "\n",
    "*   Quantitative field of science\n",
    "*   Question: \"what is a correct/effective dosage for a drug?\"\n",
    "*   Influenced by multiple factors: drug absorption, distribution, metabolism, and elimination"
   ]
  },
  {
   "cell_type": "markdown",
   "metadata": {
    "slideshow": {
     "slide_type": "slide"
    }
   },
   "source": [
    "### Drug concentration\n",
    "\n",
    "*   Amount of drug in the system\n",
    "    \\begin{equation}\n",
    "    \\dfrac{\\text{amount of drug}}{\\text{volume of blood}}\n",
    "    \\end{equation}"
   ]
  },
  {
   "cell_type": "markdown",
   "metadata": {
    "slideshow": {
     "slide_type": "fragment"
    }
   },
   "source": [
    "**<p style=\"font-size: 1.5em; text-align: center;\">Why would we use drug <emph>concentration</emph> rather than the absolute amount?</p>**"
   ]
  },
  {
   "cell_type": "markdown",
   "metadata": {
    "slideshow": {
     "slide_type": "slide"
    }
   },
   "source": [
    "### Minimum Effective Concentration (MEC)\n",
    "\n",
    "*   The least amount of drug that is helpful\n",
    "\n",
    "### Maximum Therapeutic Concentration (MTC)\n",
    "\n",
    "*   Alternatively referred to as \"Minimum Toxic Concentration\"\n",
    "*   Largest amount that is helpful without having dangerous or intolerable side effects\n",
    "\n",
    "### Therapeutic range\n",
    "\n",
    "*   Drug concentration between the MEC and the MTC thresholds"
   ]
  },
  {
   "cell_type": "markdown",
   "metadata": {
    "slideshow": {
     "slide_type": "slide"
    }
   },
   "source": [
    "### Drug half-life\n",
    "\n",
    "*   Amount of time it takes for half the drug to be eliminated from the body.\n",
    "    \\begin{equation}\n",
    "    r=\\dfrac{\\ln(2)}{t_{1/2}}\n",
    "    \\end{equation}"
   ]
  },
  {
   "cell_type": "markdown",
   "metadata": {
    "slideshow": {
     "slide_type": "slide"
    }
   },
   "source": [
    "### Blood, plasma, and blood serum\n",
    "\n",
    "*   It's common for drug concentration and the drug half-life to be measured with respect to concentration in the plasma or the blood serum.\n",
    "*   Plasma is the fluid that contains blood cells.\n",
    "*   Blood serum is the clear fluid that separates from blood when it clots.\n",
    "\n",
    "### Adult body\n",
    "\n",
    "*   Contains approximately 5 liters of blood.\n",
    "*   Contains approximately 3 liters of plasma.\n",
    "*   Contains approximately 3 liters of blood serum."
   ]
  },
  {
   "cell_type": "markdown",
   "metadata": {
    "slideshow": {
     "slide_type": "slide"
    }
   },
   "source": [
    "## One-compartment model of single dose"
   ]
  },
  {
   "cell_type": "markdown",
   "metadata": {
    "slideshow": {
     "slide_type": "slide"
    }
   },
   "source": [
    "### One-compartment model\n",
    "\n",
    "*   A simplified representation of how a body processes a drug.\n",
    "*   Model the body as a single homogeneous compartment\n",
    "*   Distribution is instantaneous\n",
    "*   Concentration is proportional to drug dosage and the volume of blood in a patient\n",
    "*   Rate of elimination is proportional to the amount of drug in the system"
   ]
  },
  {
   "cell_type": "markdown",
   "metadata": {
    "slideshow": {
     "slide_type": "slide"
    }
   },
   "source": [
    "### Basic facts about aspirin (acetylsalicylic acid)\n",
    "\n",
    "*   Dosage: Two 325 milligram tablets every 4 hours, up to 12 tablets per day\n",
    "*   Pain relief occurs at concentrations starting at 150 to 300 micrograms per milliliter of **plasma**\n",
    "*   Toxicity may occur at concentrations of 350 micrograms per milliliter\n",
    "*   Plasma half-life of a dose between 300 mg and 650 mg is 3.1 hours (smaller dose) to 3.2 hours (larger dose)"
   ]
  },
  {
   "cell_type": "markdown",
   "metadata": {
    "slideshow": {
     "slide_type": "slide"
    }
   },
   "source": [
    "### Building an aspirin model\n",
    "\n",
    "\\begin{equation}\n",
    "\\dfrac{dQ}{dt}=-rQ\n",
    "\\end{equation}\n",
    "\n",
    "*   Assume an adult is taking two 325 milligram tablets\n",
    "*   Assume a one-compartment model where aspirin is immediately absorbed into the plasma\n",
    "*   Use upper-bound of aspirin half-life, 3.2 hours\n",
    "*   MEC of 150 micrograms per milliliter\n",
    "*   MTC of 350 micrograms per milliliter"
   ]
  },
  {
   "cell_type": "markdown",
   "metadata": {
    "slideshow": {
     "slide_type": "slide"
    }
   },
   "source": [
    "**<span style=\"font-size: 1.5em; text-align: center;\">What value should I use for the plasma volume?</span>**"
   ]
  },
  {
   "cell_type": "markdown",
   "metadata": {
    "slideshow": {
     "slide_type": "fragment"
    }
   },
   "source": [
    "**<span style=\"font-size: 1.5em; text-align: center;\">Do I need to do any unit conversions? If so, what should be converted and what are the new values?</span>**"
   ]
  },
  {
   "cell_type": "markdown",
   "metadata": {
    "slideshow": {
     "slide_type": "slide"
    }
   },
   "source": [
    "### System dynamics diagram\n",
    "\n",
    "<center><img width=\"50%\" src=\"../../img/aspirin_system_dynamics_model.png\"></center>"
   ]
  },
  {
   "cell_type": "markdown",
   "metadata": {
    "slideshow": {
     "slide_type": "slide"
    }
   },
   "source": [
    "### Model constants"
   ]
  },
  {
   "cell_type": "code",
   "execution_count": 2,
   "metadata": {},
   "outputs": [],
   "source": [
    "sim_time = 8  # hours\n",
    "delta_t = 0.01  # hours\n",
    "sim_steps = int(sim_time / delta_t)\n",
    "half_life = 3.2  # hours\n",
    "plasma_volume = 3000  # milliliters\n",
    "initial_aspirin_in_plasma = 2 * 325 * 1000  # micrograms\n",
    "elimination_constant = -np.log(2) / half_life  # inverse hours\n",
    "mec = 150  # micrograms\n",
    "mtc = 350  # micrograms"
   ]
  },
  {
   "cell_type": "markdown",
   "metadata": {
    "slideshow": {
     "slide_type": "fragment"
    }
   },
   "source": [
    "### Simulation trace"
   ]
  },
  {
   "cell_type": "code",
   "execution_count": 3,
   "metadata": {},
   "outputs": [],
   "source": [
    "plasma_concentration = [[0, initial_aspirin_in_plasma / plasma_volume]]"
   ]
  },
  {
   "cell_type": "markdown",
   "metadata": {
    "slideshow": {
     "slide_type": "slide"
    }
   },
   "source": [
    "### Finite difference equation"
   ]
  },
  {
   "cell_type": "markdown",
   "metadata": {},
   "source": [
    "Standard `for` loop for unconstrained decay"
   ]
  },
  {
   "cell_type": "code",
   "execution_count": 4,
   "metadata": {},
   "outputs": [],
   "source": [
    "aspirin_in_plasma = initial_aspirin_in_plasma\n",
    "for step_index in range(1, sim_steps + 1):\n",
    "    elimination = elimination_constant * aspirin_in_plasma\n",
    "    aspirin_in_plasma += elimination * delta_t\n",
    "    plasma_concentration.append([step_index, aspirin_in_plasma / plasma_volume])"
   ]
  },
  {
   "cell_type": "markdown",
   "metadata": {
    "slideshow": {
     "slide_type": "fragment"
    }
   },
   "source": [
    "Don't forget to convert your results to a data frame!"
   ]
  },
  {
   "cell_type": "markdown",
   "metadata": {},
   "source": [
    "**How do I extract the \"step\" column and the \"plasma\" column from `plasma_concentration`?**\n",
    "\n",
    "```python\n",
    "simulation_df = pd.DataFrame({\n",
    "    \"step\": ???,\n",
    "    \"plasma\": ???,\n",
    "})\n",
    "```"
   ]
  },
  {
   "cell_type": "markdown",
   "metadata": {
    "slideshow": {
     "slide_type": "slide"
    }
   },
   "source": [
    "List comprehensions!"
   ]
  },
  {
   "cell_type": "code",
   "execution_count": 5,
   "metadata": {
    "slideshow": {
     "slide_type": "-"
    }
   },
   "outputs": [],
   "source": [
    "simulation_df = pd.DataFrame({\n",
    "    \"step\": [x[0] for x in plasma_concentration],\n",
    "    \"plasma\": [x[1] for x in plasma_concentration],\n",
    "})\n",
    "simulation_df[\"time\"] = simulation_df[\"step\"] * delta_t"
   ]
  },
  {
   "cell_type": "markdown",
   "metadata": {
    "slideshow": {
     "slide_type": "slide"
    }
   },
   "source": [
    "### Visualization"
   ]
  },
  {
   "cell_type": "code",
   "execution_count": 6,
   "metadata": {},
   "outputs": [
    {
     "data": {
      "image/png": "[encoded data removed]",
      "text/plain": [
       "<Figure size 720x480 with 1 Axes>"
      ]
     },
     "metadata": {
      "needs_background": "light"
     },
     "output_type": "display_data"
    }
   ],
   "source": [
    "fig, ax = plt.subplots(dpi=120)  # Use dpi to change figure size in notebooks\n",
    "ax.axhline(mec, color=\"k\", linestyle=\"--\")  # Plots MEC minimum line\n",
    "ax.axhline(mtc, color=\"k\", linestyle=\"--\")  # Plots MTC maximum line\n",
    "ax.plot(simulation_df[\"time\"], simulation_df[\"plasma\"].values, \"-\")\n",
    "ax.text(7.5, mec + 10, \"MEC\")\n",
    "ax.text(7.5, mtc - 20, \"MTC\")\n",
    "ax.set_ylim(bottom=0)\n",
    "ax.set_xlabel(\"time (hr)\")\n",
    "ax.set_ylabel(r\"plasma concentration $(\\mu{}g/\\mathrm{mL})$\");"
   ]
  },
  {
   "cell_type": "markdown",
   "metadata": {
    "slideshow": {
     "slide_type": "slide"
    }
   },
   "source": [
    "### In-class practice"
   ]
  },
  {
   "cell_type": "markdown",
   "metadata": {},
   "source": [
    "Work on Exercise 7 in your textbook:\n",
    "\n",
    "> How should the one-dose aspirin example be adjusted to incorporate the weight of a male patient? About 65% to 70% of a male's body is liquid. Assume that 1 kilogram of body liquid has a volume of 1 Liter. Assume the patient has a mass of 90 kilograms (comparable to about 198 pounds).\n",
    "\n",
    "You can discuss with the students near you."
   ]
  },
  {
   "cell_type": "markdown",
   "metadata": {
    "slideshow": {
     "slide_type": "slide"
    }
   },
   "source": [
    "### Body fluid components: percentage breakdown\n",
    "\n",
    "This diagram comes from the \"Extracellular fluid\" article on *Wikipedia*, https://en.wikipedia.org/wiki/Extracellular_fluid. From this, we learn that about 7% of our body fluid consists of blood plasma.\n",
    "\n",
    "![](../../img/wikipedia_cellular_fluid_content.jpg)"
   ]
  },
  {
   "cell_type": "markdown",
   "metadata": {
    "slideshow": {
     "slide_type": "slide"
    }
   },
   "source": [
    "### Modified constants\n",
    "\n",
    "The modifications based on our gathered information are contained in the constants `body_mass`, `body_fluid_volume`, and `plasma_volume`."
   ]
  },
  {
   "cell_type": "code",
   "execution_count": 7,
   "metadata": {
    "slideshow": {
     "slide_type": "slide"
    }
   },
   "outputs": [],
   "source": [
    "sim_time = 8  # hours\n",
    "delta_t = 0.01  # hours\n",
    "sim_steps = int(sim_time / delta_t)\n",
    "half_life = 3.2  # hours\n",
    "body_mass = 90  # kilograms\n",
    "body_fluid_volume = 0.70 * body_mass * 1000  # milliliters\n",
    "plasma_volume = 0.07 * body_fluid_volume  # milliliters\n",
    "initial_aspirin_in_plasma = 2 * 325 * 1000  # micrograms\n",
    "elimination_constant = -np.log(2) / half_life  # inverse hours\n",
    "mec = 150  # micrograms\n",
    "mtc = 350  # micrograms\n",
    "plasma_concentration = [[0, initial_aspirin_in_plasma / plasma_volume]]"
   ]
  },
  {
   "cell_type": "markdown",
   "metadata": {
    "slideshow": {
     "slide_type": "slide"
    }
   },
   "source": [
    "### Simulation algorithm\n",
    "\n",
    "This remains the same as last time."
   ]
  },
  {
   "cell_type": "code",
   "execution_count": 8,
   "metadata": {
    "slideshow": {
     "slide_type": "slide"
    }
   },
   "outputs": [],
   "source": [
    "aspirin_in_plasma = initial_aspirin_in_plasma\n",
    "for step_index in range(1, sim_steps + 1):\n",
    "    elimination = elimination_constant * aspirin_in_plasma\n",
    "    aspirin_in_plasma += elimination * delta_t\n",
    "    plasma_concentration.append([step_index, aspirin_in_plasma / plasma_volume])"
   ]
  },
  {
   "cell_type": "code",
   "execution_count": 9,
   "metadata": {
    "slideshow": {
     "slide_type": "-"
    }
   },
   "outputs": [],
   "source": [
    "simulation_df = pd.DataFrame({\n",
    "    \"step\": [x[0] for x in plasma_concentration],\n",
    "    \"plasma\": [x[1] for x in plasma_concentration],\n",
    "})\n",
    "simulation_df[\"time\"] = simulation_df[\"step\"] * delta_t"
   ]
  },
  {
   "cell_type": "markdown",
   "metadata": {
    "slideshow": {
     "slide_type": "slide"
    }
   },
   "source": [
    "### Modified visualization "
   ]
  },
  {
   "cell_type": "code",
   "execution_count": 10,
   "metadata": {
    "slideshow": {
     "slide_type": "-"
    }
   },
   "outputs": [
    {
     "data": {
      "image/png": "[encoded data removed]",
      "text/plain": [
       "<Figure size 720x480 with 1 Axes>"
      ]
     },
     "metadata": {
      "needs_background": "light"
     },
     "output_type": "display_data"
    }
   ],
   "source": [
    "fig, ax = plt.subplots(dpi=120)  # Use dpi to change figure size in notebooks\n",
    "ax.axhline(mec, color=\"k\", linestyle=\"--\")  # Plots MEC minimum line\n",
    "ax.axhline(mtc, color=\"k\", linestyle=\"--\")  # Plots MTC maximum line\n",
    "ax.plot(simulation_df[\"time\"], simulation_df[\"plasma\"].values, \"-\")\n",
    "ax.text(7.5, mec + 10, \"MEC\")\n",
    "ax.text(7.5, mtc - 20, \"MTC\")\n",
    "ax.set_title(\"Aspirin model adjusted for 90 kilogram male\")\n",
    "ax.set_ylim(bottom=0)\n",
    "ax.set_xlabel(\"time (hr)\")\n",
    "ax.set_ylabel(r\"plasma concentration $(\\mu{}g/\\mathrm{mL})$\");"
   ]
  }
 ],
 "metadata": {
  "celltoolbar": "Slideshow",
  "kernelspec": {
   "display_name": "Python 3",
   "language": "python",
   "name": "python3"
  },
  "language_info": {
   "codemirror_mode": {
    "name": "ipython",
    "version": 3
   },
   "file_extension": ".py",
   "mimetype": "text/x-python",
   "name": "python",
   "nbconvert_exporter": "python",
   "pygments_lexer": "ipython3",
   "version": "3.6.5"
  },
  "varInspector": {
   "cols": {
    "lenName": 16,
    "lenType": 16,
    "lenVar": 40
   },
   "kernels_config": {
    "python": {
     "delete_cmd_postfix": "",
     "delete_cmd_prefix": "del ",
     "library": "var_list.py",
     "varRefreshCmd": "print(var_dic_list())"
    },
    "r": {
     "delete_cmd_postfix": ") ",
     "delete_cmd_prefix": "rm(",
     "library": "var_list.r",
     "varRefreshCmd": "cat(var_dic_list()) "
    }
   },
   "types_to_exclude": [
    "module",
    "function",
    "builtin_function_or_method",
    "instance",
    "_Feature"
   ],
   "window_display": false
  }
 },
 "nbformat": 4,
 "nbformat_minor": 2
}
