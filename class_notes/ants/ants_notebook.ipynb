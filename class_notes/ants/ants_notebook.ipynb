{
 "cells": [
  {
   "cell_type": "markdown",
   "metadata": {},
   "source": [
    "![CDS 411 logo](../../img/cds-411-logo.png)\n",
    "\n",
    "# Cellular automata III: Ants\n",
    "\n",
    "---\n",
    "\n",
    "![CC BY-SA 4.0 license](../../img/cc-by-sa.png)\n",
    "\n",
    "This notebook is licensed under a [Creative Commons Attribution-ShareAlike 4.0 International License](http://creativecommons.org/licenses/by-sa/4.0/)."
   ]
  },
  {
   "cell_type": "markdown",
   "metadata": {},
   "source": [
    "## Load packages"
   ]
  },
  {
   "cell_type": "code",
   "execution_count": 1,
   "metadata": {},
   "outputs": [],
   "source": [
    "%matplotlib inline\n",
    "\n",
    "import matplotlib.pyplot as plt\n",
    "from matplotlib import animation, rc\n",
    "from matplotlib.colors import LinearSegmentedColormap\n",
    "import numpy as np\n",
    "import pandas as pd\n",
    "import seaborn as sns\n",
    "from IPython.display import HTML\n",
    "\n",
    "rc(\"animation\", html=\"html5\")\n",
    "\n",
    "np.random.seed(11897733)"
   ]
  },
  {
   "cell_type": "markdown",
   "metadata": {
    "ein.tags": "worksheet-0",
    "slideshow": {
     "slide_type": "-"
    }
   },
   "source": [
    "## Initializing the System"
   ]
  },
  {
   "cell_type": "code",
   "execution_count": 2,
   "metadata": {},
   "outputs": [],
   "source": [
    "def init_ants(n, prob_ant):\n",
    "    \"\"\"Initialize an n ⨉ n grid of ants.\n",
    "    \n",
    "    Parameters\n",
    "    ----------\n",
    "    n : int\n",
    "        Number of rows and columns in the grid\n",
    "\n",
    "    prob_tree : float\n",
    "        Probability to initialize a cell with an ant\n",
    "        \n",
    "    Returns\n",
    "    -------\n",
    "    ants : np.array\n",
    "        Grid of integers defining the ant population\n",
    "    \"\"\"\n",
    "    ants = np.zeros(shape=(n, n), dtype=np.int)\n",
    "\n",
    "    ant_cells = np.random.uniform(low=0, high=1, size=(n, n)) < prob_ant\n",
    "    number_ants = np.sum(ant_cells)\n",
    "\n",
    "    ants[ant_cells] = np.random.randint(low=1, high=5, size=number_ants)\n",
    "\n",
    "    return ants"
   ]
  },
  {
   "cell_type": "code",
   "execution_count": 3,
   "metadata": {},
   "outputs": [],
   "source": [
    "def init_pheromones(n, max_pheromone, trail_length, trail_start):\n",
    "    \"\"\"Initialize an n ⨉ n grid of pheromones.\n",
    "    \n",
    "    Parameters\n",
    "    ----------\n",
    "    n : int\n",
    "        Number of rows and columns in the grid\n",
    "\n",
    "    max_pheromone : float\n",
    "    \n",
    "    trail_length : int\n",
    "    \n",
    "    trail_start : list-like\n",
    "        \n",
    "    Returns\n",
    "    -------\n",
    "    pheromones : np.array\n",
    "        Grid of floats defining the ant pheromones\n",
    "    \"\"\"\n",
    "    pheromones = np.zeros(shape=(n, n), dtype=np.float)\n",
    "\n",
    "    trail_row = trail_start[0]\n",
    "    trail_start_column = trail_start[1]\n",
    "    trail_end_column = trail_start[1] + trail_length\n",
    "    \n",
    "    pheromones[trail_row, trail_start_column:trail_end_column] = np.linspace(\n",
    "        start=0,\n",
    "        stop=max_pheromone,\n",
    "        num=trail_end_column - trail_start_column)\n",
    "    \n",
    "    return pheromones"
   ]
  },
  {
   "cell_type": "markdown",
   "metadata": {},
   "source": [
    "Let's test that the above function creates the ants and pheromones grids, assuming that we have a 17 ⨉ 17 grid, a 10% chance that any given cell starts with an ant, and that a pheromone trail is laid down in the center row of the grid with values linearly increasing from 0 to 50 when going from the first column to the last column."
   ]
  },
  {
   "cell_type": "code",
   "execution_count": 4,
   "metadata": {},
   "outputs": [],
   "source": [
    "ants = init_ants(17, 0.1)\n",
    "pheromones = init_pheromones(17, 50, 17, [8, 0])"
   ]
  },
  {
   "cell_type": "markdown",
   "metadata": {},
   "source": [
    "To inspect that the grids were constructed correctly, we will utilize a heat map visualization.\n",
    "For the ant grid, empty squares will be black, squares with ants will be orange, and border squares (not yet defined) will be gray.\n",
    "For the pheromones grid, we apply the *viridis* colormap scheme."
   ]
  },
  {
   "cell_type": "code",
   "execution_count": 5,
   "metadata": {},
   "outputs": [],
   "source": [
    "def visualize_grid(grid, grid_type, fig_width=6, fig_height=6, dpi=120):\n",
    "    \"\"\"Visualize a 2D numpy array using a heatmap.\n",
    "\n",
    "    Parameters\n",
    "    ----------\n",
    "    grid : np.array\n",
    "        A two-dimensional array representing the cellular automata grid\n",
    "        \n",
    "    grid_type : str\n",
    "        Sets the appropriate colormap by using 'discrete' or 'continuous'\n",
    "    \n",
    "    fig_width : float\n",
    "        Figure width in inches\n",
    "        \n",
    "    fig_height : float\n",
    "        Figure height in inches\n",
    "        \n",
    "    Returns\n",
    "    -------\n",
    "    fig, ax : tuple of plt.figure and plt.subplot\n",
    "        Matplotlib figure and subplot axis objects\n",
    "        \n",
    "    .. _colormaps: https://matplotlib.org/examples/color/colormaps_reference.html \n",
    "    \"\"\"\n",
    "    # grid dimensions\n",
    "    m, n = grid.shape\n",
    "\n",
    "    # create matplotlib figure and subplot objects\n",
    "    fig, ax = plt.subplots(figsize=(fig_width, fig_height), dpi=dpi)\n",
    "\n",
    "    # Define a custom color map, with 0 being black, 1 being tab:blue, and\n",
    "    # 2 being tab:orange\n",
    "    # imshow visualizes array as a two-dimensionl uniform grid\n",
    "    if grid_type == \"discrete\":\n",
    "        cmap = LinearSegmentedColormap.from_list(\n",
    "            'ants', ['black', 'tab:orange', 'tab:orange', 'tab:orange',\n",
    "                     'tab:orange', 'tab:orange', 'gray'])\n",
    "        im = ax.imshow(grid, cmap=cmap, interpolation=\"nearest\", vmin=0,\n",
    "                       vmax=6)\n",
    "    elif grid_type == \"continuous\":\n",
    "        cmap = \"viridis\"\n",
    "        im = ax.imshow(grid, cmap=cmap, interpolation=\"nearest\")\n",
    "\n",
    "    # find the starting and ending coordinates for heatmap for creating\n",
    "    # grid lines\n",
    "    xticks_start, xticks_end = ax.get_xlim();\n",
    "    yticks_start, yticks_end = ax.get_ylim();\n",
    "\n",
    "    # separate grid cells by white lines\n",
    "    ax.xaxis.set_ticks(np.linspace(xticks_start, xticks_end, n + 1),\n",
    "                       minor=False);\n",
    "    ax.yaxis.set_ticks(np.linspace(yticks_start, yticks_end, m + 1),\n",
    "                       minor=False);\n",
    "    ax.axes.grid(True, linestyle=\"-\", linewidth=0.3, color=\"white\",\n",
    "                 which=\"major\");\n",
    "    \n",
    "    # we don't need ticks and tick labels because we have grid lines\n",
    "    ax.tick_params(labelbottom = False, labelleft=False, bottom=False,\n",
    "                   left=False);\n",
    "    \n",
    "    # Return matplotlib figure and subplot objects\n",
    "    return fig, ax"
   ]
  },
  {
   "cell_type": "markdown",
   "metadata": {},
   "source": [
    "So, for our example, we get the following heatmap for the ants grid:"
   ]
  },
  {
   "cell_type": "code",
   "execution_count": 6,
   "metadata": {},
   "outputs": [
    {
     "data": {
      "image/png": "[encoded data removed]",
      "text/plain": [
       "<Figure size 576x576 with 1 Axes>"
      ]
     },
     "metadata": {},
     "output_type": "display_data"
    }
   ],
   "source": [
    "visualize_grid(ants, \"discrete\", dpi=96);"
   ]
  },
  {
   "cell_type": "markdown",
   "metadata": {},
   "source": [
    "And we get the following heatmap for the pheromones grid:"
   ]
  },
  {
   "cell_type": "code",
   "execution_count": 7,
   "metadata": {},
   "outputs": [
    {
     "data": {
      "image/png": "[encoded data removed]",
      "text/plain": [
       "<Figure size 576x576 with 1 Axes>"
      ]
     },
     "metadata": {},
     "output_type": "display_data"
    }
   ],
   "source": [
    "visualize_grid(pheromones, \"continuous\", dpi=96);"
   ]
  },
  {
   "cell_type": "markdown",
   "metadata": {},
   "source": [
    "This is exactly what we expected to see."
   ]
  },
  {
   "cell_type": "markdown",
   "metadata": {},
   "source": [
    "## Boundary Conditions\n",
    "\n",
    "For the ants, we will implement **absorbing boundary conditions** using the standard **ghost cells** approach.\n",
    "The following function sets up the ghost cells in `numpy`:"
   ]
  },
  {
   "cell_type": "code",
   "execution_count": 8,
   "metadata": {},
   "outputs": [],
   "source": [
    "def boundary_condition(grid, constant_values, condition=\"absorbing\"):\n",
    "    \"\"\"Wrap grid with ghost cells for boundary condition.\n",
    "    \n",
    "    Parameters\n",
    "    ----------\n",
    "    grid : np.array\n",
    "        2D Grid of integers or floats\n",
    "        \n",
    "    condition : str, optional\n",
    "        The boundary condition to use when creating ghost cells.\n",
    "    \"\"\"\n",
    "    if condition == \"absorbing\":\n",
    "        grid_with_border = np.pad(\n",
    "            array=grid, pad_width=(1, 1), mode='constant',\n",
    "            constant_values=constant_values)\n",
    "\n",
    "    else:\n",
    "        raise ValueError(\n",
    "            \"{0} is not a valid boundary condition\".format(condition))\n",
    "\n",
    "    return grid_with_border"
   ]
  },
  {
   "cell_type": "markdown",
   "metadata": {},
   "source": [
    "Let's test that the ghost cells work as expected.\n",
    "We wish to wrap the `ants` grid with cells equal to `6`, which indicates the presence of a border.\n",
    "We also wish to wrap the `pheromones` grid with cells equal to `-0.01`, which will prevent ants from entering a border cell."
   ]
  },
  {
   "cell_type": "code",
   "execution_count": 9,
   "metadata": {},
   "outputs": [],
   "source": [
    "ants_extended = boundary_condition(ants, constant_values=6)\n",
    "pheromones_extended = boundary_condition(pheromones, constant_values=-0.01)"
   ]
  },
  {
   "cell_type": "markdown",
   "metadata": {},
   "source": [
    "To check that it worked, we visualize the ants grid with a border:"
   ]
  },
  {
   "cell_type": "code",
   "execution_count": 10,
   "metadata": {},
   "outputs": [
    {
     "data": {
      "image/png": "[encoded data removed]",
      "text/plain": [
       "<Figure size 576x576 with 1 Axes>"
      ]
     },
     "metadata": {},
     "output_type": "display_data"
    }
   ],
   "source": [
    "visualize_grid(ants_extended, \"discrete\", dpi=96);"
   ]
  },
  {
   "cell_type": "markdown",
   "metadata": {},
   "source": [
    "And we also visualize the pheromones grid:"
   ]
  },
  {
   "cell_type": "code",
   "execution_count": 11,
   "metadata": {},
   "outputs": [
    {
     "data": {
      "image/png": "[encoded data removed]",
      "text/plain": [
       "<Figure size 576x576 with 1 Axes>"
      ]
     },
     "metadata": {},
     "output_type": "display_data"
    }
   ],
   "source": [
    "visualize_grid(pheromones_extended, \"continuous\", dpi=96);"
   ]
  },
  {
   "cell_type": "markdown",
   "metadata": {},
   "source": [
    "## Finding neighbors\n",
    "\n",
    "This simulation makes use of both the **Moore neighborhood** and the **von Neumann neighborhood**, with the diffusion of pheromones using **Moore** and an ant's sensing and walking stages using **von Neumann**.\n",
    "We define a function that allows us to return both kinds of neighborhoods:"
   ]
  },
  {
   "cell_type": "code",
   "execution_count": 12,
   "metadata": {},
   "outputs": [],
   "source": [
    "def get_neighbors(extended_grid,\n",
    "                  neighborhood,\n",
    "                  ghost_width=(1, 1)):\n",
    "    \"\"\"Get the cellular state of each site's neighbors in a single sweep.\n",
    "    \n",
    "    Paramters\n",
    "    ---------\n",
    "    extended_grid : np.array\n",
    "        Grid defining states in a cellular automata simulation\n",
    "        \n",
    "    neighborhood : str, optional\n",
    "        Determines which cells will be counted as neighbors, set to either\n",
    "        'moore' or 'von_neumann'\n",
    "        \n",
    "    ghost_width : array-like, optional\n",
    "        A number pair that specifies how many rows and columns make up the\n",
    "        ghost cell region\n",
    "        \n",
    "    Returns\n",
    "    -------\n",
    "    grid_with_neighbors : np.array\n",
    "        Grid containing the states of each cell's neighbors\n",
    "    \"\"\"\n",
    "    m_extended, n_extended = extended_grid.shape\n",
    "    m, n = (m_extended - ghost_width[0], n_extended - ghost_width[1])\n",
    "    \n",
    "    if neighborhood == \"von_neumann\":\n",
    "        grid_with_neighbors = np.array([\n",
    "            np.roll(\n",
    "                extended_grid, shift=(0, 1),\n",
    "                axis=(1, 0))[ghost_width[0]:m, ghost_width[1]:n],\n",
    "            np.roll(\n",
    "                extended_grid, shift=(-1, 0),\n",
    "                axis=(1, 0))[ghost_width[0]:m, ghost_width[1]:n],\n",
    "            np.roll(\n",
    "                extended_grid, shift=(0, -1),\n",
    "                axis=(1, 0))[ghost_width[0]:m, ghost_width[1]:n],\n",
    "            np.roll(\n",
    "                extended_grid, shift=(1, 0),\n",
    "                axis=(1, 0))[ghost_width[0]:m, ghost_width[1]:n]])\n",
    "\n",
    "    elif neighborhood == \"moore\":\n",
    "        grid_with_neighbors = np.array([\n",
    "            np.roll(\n",
    "                extended_grid, shift=(1, 1),\n",
    "                axis=(1, 0))[ghost_width[0]:m, ghost_width[1]:n],\n",
    "            np.roll(\n",
    "                extended_grid, shift=(0, 1),\n",
    "                axis=(1, 0))[ghost_width[0]:m, ghost_width[1]:n],\n",
    "            np.roll(\n",
    "                extended_grid, shift=(-1, 1),\n",
    "                axis=(1, 0))[ghost_width[0]:m, ghost_width[1]:n],\n",
    "            np.roll(\n",
    "                extended_grid, shift=(1, 0),\n",
    "                axis=(1, 0))[ghost_width[0]:m, ghost_width[1]:n],\n",
    "            np.roll(\n",
    "                extended_grid, shift=(-1, 0),\n",
    "                axis=(1, 0))[ghost_width[0]:m, ghost_width[1]:n],\n",
    "            np.roll(\n",
    "                extended_grid, shift=(-1, -1),\n",
    "                axis=(1, 0))[ghost_width[0]:m, ghost_width[1]:n],\n",
    "            np.roll(\n",
    "                extended_grid, shift=(0, -1),\n",
    "                axis=(1, 0))[ghost_width[0]:m, ghost_width[1]:n],\n",
    "            np.roll(\n",
    "                extended_grid, shift=(1, -1),\n",
    "                axis=(1, 0))[ghost_width[0]:m, ghost_width[1]:n]])\n",
    "\n",
    "    else:\n",
    "        raise ValueError(\n",
    "            \"{0} is not a valid type of neighborhood\".format(neighborhood))\n",
    "\n",
    "    return grid_with_neighbors"
   ]
  },
  {
   "cell_type": "markdown",
   "metadata": {},
   "source": [
    "## Diffusion of pheromones"
   ]
  },
  {
   "cell_type": "code",
   "execution_count": 13,
   "metadata": {},
   "outputs": [],
   "source": [
    "def diffusion(grid, neighbors, diffusion_rate):\n",
    "    \"\"\"Diffuse cells in grid for a single time step.\n",
    "    \n",
    "    Parameters\n",
    "    ----------\n",
    "    grid : np.array\n",
    "\n",
    "    grid_neighbors : np.array\n",
    "        An array of temperatures for each site and its neighbors\n",
    "\n",
    "    diffusion_rate : float\n",
    "        Sets ease of flow from high to low value cells in grid\n",
    "        \n",
    "    Returns\n",
    "    -------\n",
    "    grid_update : np.array\n",
    "        Updated grid after applying diffusion to all cells\n",
    "    \"\"\"\n",
    "    num_neighbors, m, n = neighbors.shape\n",
    "    \n",
    "    grid_update = (\n",
    "        (1 - num_neighbors * diffusion_rate) * grid +\n",
    "        diffusion_rate * np.sum(a=neighbors, axis=0))\n",
    "    grid_update[grid_update < 0] = 0\n",
    "\n",
    "    return grid_update"
   ]
  },
  {
   "cell_type": "markdown",
   "metadata": {},
   "source": [
    "## Ant Movement\n",
    "\n",
    "Moving the ants around the grid occurs in two stages:\n",
    "\n",
    "1.  Sensing stage: the ants sense the pheromones in the neighboring cells and change the direction they're facing\n",
    "2.  Walking stage: the ants move on the grid according to the direction selected in the sensing stage\n",
    "\n",
    "There are a set of rules governing each stage."
   ]
  },
  {
   "cell_type": "markdown",
   "metadata": {},
   "source": [
    "### Sensing stage"
   ]
  },
  {
   "cell_type": "markdown",
   "metadata": {},
   "source": [
    "During the sensing stage, the ants update their state according to the following rules:\n",
    "\n",
    "1.  An empty cell does not point toward any direction\n",
    "2.  An ant does not turn to a cell from which the creature just came\n",
    "3.  An ant does not turn to a location that is a border site\n",
    "4.  An ant does not turn to a location that currently contains an ant\n",
    "5.  Otherwise, an ant turns in the direction of the neighboring available cell (not the previous, an occupied, or a border cell) with the greatest amount of chemical pheromone.\n",
    "    In the case of more than one neighbor having the maximum amount, the ant turns at random towards one of these cells.\n",
    "6.  If no neighboring cell is available, the ant will not move"
   ]
  },
  {
   "cell_type": "code",
   "execution_count": 14,
   "metadata": {},
   "outputs": [],
   "source": [
    "def sense_find_ants(ants, ants_neighbors, pheromones_neighbors):\n",
    "    m, n = ants.shape\n",
    "    previous_ants_state = ants.copy()\n",
    "    II, JJ = np.meshgrid(\n",
    "        np.arange(m), np.arange(n), indexing='ij')\n",
    "    ant_cells = np.logical_and(ants != 0, ants != 6)\n",
    "    ants_ij = np.column_stack((II[ant_cells], JJ[ant_cells]))\n",
    "    \n",
    "    return previous_ants_state, ants_ij"
   ]
  },
  {
   "cell_type": "code",
   "execution_count": 15,
   "metadata": {},
   "outputs": [],
   "source": [
    "def sense_no_backtrack(ants, pheromones_neighbors, ij):\n",
    "    map_van_neumann_to_moore = {1: 1, 2: 4, 3: 6, 4: 3}\n",
    "    ant_state = ants[ij[0], ij[1]]\n",
    "        \n",
    "    if ant_state != 5:\n",
    "        pheromones_direction = map_van_neumann_to_moore[ant_state]\n",
    "        pheromones_neighbors[pheromones_direction, ij[0], ij[1]] = -2"
   ]
  },
  {
   "cell_type": "code",
   "execution_count": 16,
   "metadata": {},
   "outputs": [],
   "source": [
    "def sense_detect_neighbors(ants, ants_neighbors, pheromones_neighbors, ij):\n",
    "    map_van_neumann_to_moore = {1: 1, 2: 4, 3: 6, 4: 3}\n",
    "    for direction, ant_neighbor in enumerate(ants_neighbors, start=1):\n",
    "        check_neighbor = ant_neighbor[ij[0], ij[1]]\n",
    "        ant_present = check_neighbor != 0\n",
    "        if ant_present:\n",
    "            pheromones_direction = map_van_neumann_to_moore[direction]\n",
    "            pheromones_neighbors[pheromones_direction, ij[0], ij[1]] = -2"
   ]
  },
  {
   "cell_type": "code",
   "execution_count": 17,
   "metadata": {},
   "outputs": [],
   "source": [
    "def sense_detect_pheromones(pheromones_neighbors, ij):\n",
    "    pheromone_sense_list = np.array([\n",
    "       [1, pheromones_neighbors[1, ij[0], ij[1]]],\n",
    "       [2, pheromones_neighbors[4, ij[0], ij[1]]],\n",
    "       [3, pheromones_neighbors[6, ij[0], ij[1]]],\n",
    "       [4, pheromones_neighbors[3, ij[0], ij[1]]]\n",
    "    ])\n",
    "    \n",
    "    return pheromone_sense_list"
   ]
  },
  {
   "cell_type": "code",
   "execution_count": 18,
   "metadata": {},
   "outputs": [],
   "source": [
    "def sense_choose_direction(pheromone_sense_list):\n",
    "    nesw_ant_directions = pheromone_sense_list[:, 0]\n",
    "    maximum_value = np.max(pheromone_sense_list[:, 1])\n",
    "    rows_containing_maximum_value = (\n",
    "        np.isclose(maximum_value, pheromone_sense_list[:, 1]))\n",
    "    directions_to_choose_from = (\n",
    "        nesw_ant_directions[rows_containing_maximum_value])\n",
    "    update_state = (\n",
    "        directions_to_choose_from\n",
    "        if directions_to_choose_from.shape[0] == 1\n",
    "        else np.random.choice(directions_to_choose_from))\n",
    "    \n",
    "    return np.int(update_state)"
   ]
  },
  {
   "cell_type": "code",
   "execution_count": 19,
   "metadata": {},
   "outputs": [],
   "source": [
    "def sense(ants, ants_neighbors, pheromones_neighbors):\n",
    "    previous_ants_state, ants_ij = (\n",
    "        sense_find_ants(ants, ants_neighbors, pheromones_neighbors))\n",
    "    \n",
    "    for ij in ants_ij:\n",
    "        sense_no_backtrack(ants, pheromones_neighbors, ij)\n",
    "        sense_detect_neighbors(ants, ants_neighbors, pheromones_neighbors, ij)\n",
    "            \n",
    "        pheromone_sense_list = sense_detect_pheromones(pheromones_neighbors, ij)\n",
    "        all_negative_pheromones_test = np.all(pheromone_sense_list < 0)\n",
    "        \n",
    "        if all_negative_pheromones_test:\n",
    "            update_state = 5\n",
    "        else:\n",
    "            update_state = sense_choose_direction(pheromone_sense_list)\n",
    "            \n",
    "        ants[ij[0], ij[1]] = update_state"
   ]
  },
  {
   "cell_type": "markdown",
   "metadata": {},
   "source": [
    "### Walking stage\n",
    "\n",
    "After the sensing stage, the ants will then walk.\n",
    "The pheromone grid will also receive an update prior to running the diffusion step.\n",
    "The rules are as follows:\n",
    "\n",
    "1.  For a cell that remains empty, the amount of chemical pheromone decrements by a constant amount `evaporate`, but does not fall below 0.\n",
    "    Thus, the new amount is the maximum of 0 and the current amount minus `evaporate`.\n",
    "2.  An ant facing in a certain direction will move into that neighboring cell as long as no other ant has already moved there\n",
    "3.  Otherwise, the ant will stay in its current cell\n",
    "4.  If an ant leaves a cell that has pheromone above a certain threshold, `threshold`, the amount of chemical pheromone increments by a set amount, `deposit`, to reinforce the trail\n",
    "5.  If an ant stays in a cell, the amount of chemical remains the same\n",
    "6.  After moving to a new location, the ant faces towards the cell from which the animal just came"
   ]
  },
  {
   "cell_type": "code",
   "execution_count": 20,
   "metadata": {},
   "outputs": [],
   "source": [
    "def walk_find_ants(extended_ants):\n",
    "    m, n = extended_ants.shape\n",
    "    previous_ants_state = extended_ants.copy()\n",
    "    II, JJ = np.meshgrid(\n",
    "        np.arange(m), np.arange(n), indexing='ij')\n",
    "    moving_ant_cells = (\n",
    "        np.logical_and(extended_ants != 0, np.logical_and(extended_ants != 5, extended_ants != 6)))\n",
    "    extended_ants_ij = np.column_stack((II[moving_ant_cells], JJ[moving_ant_cells]))\n",
    "    np.random.shuffle(extended_ants_ij)\n",
    "    \n",
    "    return previous_ants_state, extended_ants_ij"
   ]
  },
  {
   "cell_type": "code",
   "execution_count": 21,
   "metadata": {},
   "outputs": [],
   "source": [
    "def evaporate_pheromones(ants, previous_ants_state, pheromones, evaporate):\n",
    "    cells_remained_empty = np.logical_and(previous_ants_state == 0, ants == 0)\n",
    "    number_remaining_empty = np.sum(cells_remained_empty)\n",
    "    pheromones[cells_remained_empty] -= evaporate\n",
    "    pheromones[cells_remained_empty] = (\n",
    "        np.maximum(np.zeros(number_remaining_empty),\n",
    "                   pheromones[cells_remained_empty]))"
   ]
  },
  {
   "cell_type": "code",
   "execution_count": 22,
   "metadata": {},
   "outputs": [],
   "source": [
    "def deposit_pheromone(pheromones, ij, threshold, deposit):\n",
    "    if pheromones[ij[0], ij[1]] > threshold:\n",
    "        pheromones[ij[0], ij[1]] += deposit"
   ]
  },
  {
   "cell_type": "code",
   "execution_count": 23,
   "metadata": {},
   "outputs": [],
   "source": [
    "def movement(ant_state, ij):\n",
    "    if ant_state == 1:\n",
    "        update_ij = ij + np.array([-1, 0])\n",
    "    elif ant_state == 2:\n",
    "        update_ij = ij + np.array([0, 1])\n",
    "    elif ant_state == 3:\n",
    "        update_ij = ij + np.array([1, 0])\n",
    "    elif ant_state == 4:\n",
    "        update_ij = ij + np.array([0, -1])\n",
    "    else:\n",
    "        raise ValueError(\n",
    "            \"{0} is not a valid ant state\".format(ant_state))\n",
    "        \n",
    "    return update_ij"
   ]
  },
  {
   "cell_type": "code",
   "execution_count": 24,
   "metadata": {},
   "outputs": [],
   "source": [
    "def turn_around(ant_state):\n",
    "    if ant_state == 1:\n",
    "        new_state = 3\n",
    "    elif ant_state == 2:\n",
    "        new_state = 4\n",
    "    elif ant_state == 3:\n",
    "        new_state = 1\n",
    "    elif ant_state == 4:\n",
    "        new_state = 2\n",
    "    else:\n",
    "        raise ValueError(\n",
    "            \"{0} is not a valid ant state\".format(ant_state))\n",
    "        \n",
    "    return new_state"
   ]
  },
  {
   "cell_type": "code",
   "execution_count": 25,
   "metadata": {},
   "outputs": [],
   "source": [
    "def walk(ants, pheromones, evaporate, threshold, deposit):\n",
    "    \"\"\"Update the ants and pheromones grids based on sensing step.\n",
    "    \n",
    "    \"\"\"\n",
    "    extended_ants = boundary_condition(ants, 6, condition=\"absorbing\")\n",
    "    extended_pheromones = boundary_condition(pheromones, -0.01, condition=\"absorbing\")\n",
    "    previous_ants_state, ants_ij = walk_find_ants(extended_ants)\n",
    "\n",
    "    for ij in ants_ij:\n",
    "        ant_state = extended_ants[ij[0], ij[1]]\n",
    "        update_ij = movement(ant_state, ij)\n",
    "        neighboring_block = extended_ants[update_ij[0], update_ij[1]]\n",
    "        ant_blocking_move = neighboring_block != 0 & neighboring_block != 6\n",
    "\n",
    "        if ant_blocking_move:\n",
    "            extended_ants[ij[0], ij[1]] = 5\n",
    "        else:\n",
    "            extended_ants[ij[0], ij[1]] = 0\n",
    "            deposit_pheromone(extended_pheromones, ij, threshold, deposit)\n",
    "            extended_ants[update_ij[0], update_ij[1]] = turn_around(ant_state)\n",
    "\n",
    "    evaporate_pheromones(extended_ants, previous_ants_state, extended_pheromones, evaporate)\n",
    "    m, n = extended_ants.shape\n",
    "    ants[:, :] = extended_ants[1:(m - 1), 1:(n - 1)]\n",
    "    pheromones[:, :] = extended_pheromones[1:(m - 1), 1:(n - 1)]"
   ]
  },
  {
   "cell_type": "markdown",
   "metadata": {},
   "source": [
    "Now we sweep over all lattice points.\n",
    "In addition to the spread routine defined above, we also append the updated grid to the `simulation_history` list so that we can animate the diffusion simulation."
   ]
  },
  {
   "cell_type": "markdown",
   "metadata": {},
   "source": [
    "## Define a full time step\n",
    "\n",
    "Now we combine all our previous functions to define a single time step for the ants simulation:"
   ]
  },
  {
   "cell_type": "code",
   "execution_count": 26,
   "metadata": {},
   "outputs": [],
   "source": [
    "def time_step(ants, pheromones, evaporate, threshold, deposit, diffusion_rate,\n",
    "              nstep, simulation_history):\n",
    "    \"\"\"Execute a time step and update the ants and pheromones grids.\n",
    "    \n",
    "    Parameters\n",
    "    ----------\n",
    "    ants : np.array\n",
    "    \n",
    "    pheromones : np.array\n",
    "    \n",
    "    max_pheromones : float\n",
    "    \n",
    "    evaporate : float\n",
    "    \n",
    "    threshold : float\n",
    "    \n",
    "    deposit : float\n",
    "    \n",
    "    nstep : int\n",
    "        The current time step number for the simulation\n",
    "\n",
    "    simulation_history : list\n",
    "        Time-step history for the simulation's run.\n",
    "    \"\"\"\n",
    "    extended_ants = boundary_condition(ants, constant_values=6)\n",
    "    extended_pheromones = boundary_condition(\n",
    "        pheromones, constant_values=-0.01)\n",
    "    ants_neighbors = get_neighbors(\n",
    "        extended_ants, neighborhood=\"von_neumann\")\n",
    "    pheromones_neighbors = get_neighbors(\n",
    "        extended_pheromones, neighborhood=\"moore\")\n",
    "\n",
    "    sense(ants, ants_neighbors, pheromones_neighbors)\n",
    "    walk(ants, pheromones, evaporate, threshold, deposit)\n",
    "    pheromones[:, :] = diffusion(\n",
    "        pheromones, pheromones_neighbors, diffusion_rate)\n",
    "    \n",
    "    simulation_history.append([nstep, ants.copy(), pheromones.copy()])"
   ]
  },
  {
   "cell_type": "markdown",
   "metadata": {},
   "source": [
    "## Simulation Program\n",
    "\n",
    "Finally, we bring it all together into a function that runs the full simulation from start to finish.\n",
    "This is where we put our `for` loop over time."
   ]
  },
  {
   "cell_type": "code",
   "execution_count": 27,
   "metadata": {},
   "outputs": [],
   "source": [
    "def ants_simulation(number_time_steps, n, prob_ant, max_pheromone,\n",
    "                    trail_length, trail_start, evaporate, threshold, deposit,\n",
    "                    diffusion_rate):\n",
    "    \"\"\"Run the ants simulation.\n",
    "    \n",
    "    Parameters\n",
    "    ----------\n",
    "    number_time_steps : int\n",
    "        Sets the number of time steps over which to run a simulation.\n",
    "\n",
    "    n : int\n",
    "        Number of rows and columns in the grid\n",
    "\n",
    "    prob_ant : float\n",
    "\n",
    "    max_pheromone : float\n",
    "    \n",
    "    trail_length : int\n",
    "    \n",
    "    trail_start : list-like\n",
    "    \n",
    "    evaporate : float\n",
    "    \n",
    "    threshold : float\n",
    "    \n",
    "    deposit : float\n",
    "\n",
    "    Returns\n",
    "    -------\n",
    "    simulation_history : list\n",
    "    \"\"\"\n",
    "    # Initialize ants and pheromones according to parameters\n",
    "    ants = init_ants(n, prob_ant)\n",
    "    pheromones = init_pheromones(n, max_pheromone, trail_length, trail_start)\n",
    "\n",
    "    # Initialize record keeper for the simulation history\n",
    "    simulation_history = [[0, ants.copy(), pheromones.copy()]]\n",
    "\n",
    "    # Run simulation for specified number of time steps\n",
    "    for nstep in np.arange(number_time_steps):\n",
    "        time_step(ants, pheromones, evaporate, threshold, deposit,\n",
    "                  diffusion_rate, nstep, simulation_history) \n",
    "\n",
    "    return simulation_history"
   ]
  },
  {
   "cell_type": "markdown",
   "metadata": {},
   "source": [
    "## Display Simulation\n",
    "\n",
    "Having successfully run our simulation, now we would like to see it in action!\n",
    "We advance each frame of the animation by incrementing the index on `simulation_history` by 1."
   ]
  },
  {
   "cell_type": "code",
   "execution_count": 28,
   "metadata": {},
   "outputs": [],
   "source": [
    "def ca_animation(simulation_history, fig_width=6, fig_height=6, dpi=120):\n",
    "    \"\"\"Animate the cellular automata simulation using Matplotlib.\n",
    "\n",
    "    Parameters\n",
    "    ----------\n",
    "    simulation_history : list\n",
    "        Time-step history for the simulation's run.\n",
    "    \n",
    "    cmap : str, optional\n",
    "        Color scheme for the heatmap scale, see colormaps_ reference.\n",
    "        \n",
    "    fig_width : float, optional\n",
    "        Figure width in inches\n",
    "        \n",
    "    fig_height : float, optional\n",
    "        Figure height in inches\n",
    "        \n",
    "    Returns\n",
    "    -------\n",
    "    anim : matplotlib.animation.FuncAnimation\n",
    "        Animated object for the simulation run.\n",
    "        \n",
    "    .. _colormaps: https://matplotlib.org/examples/color/colormaps_reference.html \n",
    "    \"\"\"\n",
    "    # grid dimensions\n",
    "    m, n = simulation_history[0][1].shape\n",
    "\n",
    "    # create matplotlib figure and subplot objects\n",
    "    fig, ax = plt.subplots(figsize=(fig_width, fig_height), dpi=dpi)\n",
    "\n",
    "    # imshow visualizes array as a two-dimensionl uniform grid\n",
    "    cmap = LinearSegmentedColormap.from_list(\n",
    "        'ants', [(0, 0, 0, 0), 'tab:orange', 'tab:orange', 'tab:orange',\n",
    "                 'tab:orange', 'tab:orange', 'gray'])\n",
    "    cmap2 = \"viridis\"\n",
    "    im2 = ax.imshow(simulation_history[0][2], cmap=cmap2, interpolation=\"nearest\", vmin=0)\n",
    "    im = ax.imshow(\n",
    "        simulation_history[0][1], cmap=cmap,interpolation=\"nearest\", alpha=0.8,\n",
    "        vmin=0, vmax=6)\n",
    "\n",
    "    # find the starting and ending coordinates for heatmap for creating\n",
    "    # grid lines\n",
    "    xticks_start, xticks_end = ax.get_xlim();\n",
    "    yticks_start, yticks_end = ax.get_ylim();\n",
    "\n",
    "    # separate grid cells by white lines\n",
    "    ax.xaxis.set_ticks(np.linspace(xticks_start, xticks_end, n + 1),\n",
    "                       minor=False);\n",
    "    ax.yaxis.set_ticks(np.linspace(yticks_start, yticks_end, m + 1),\n",
    "                       minor=False);\n",
    "    ax.axes.grid(True, linestyle=\"-\", linewidth=0.3, color=\"white\",\n",
    "                 which=\"major\");\n",
    "    \n",
    "    # we don't need ticks and tick labels because we have grid lines\n",
    "    ax.tick_params(labelbottom = False, labelleft=False, bottom=False,\n",
    "                   left=False);\n",
    "    \n",
    "    # Initialization function, clears out the data on the im object\n",
    "    def init():\n",
    "        im2.set_array(np.array([[]]))\n",
    "        im.set_array(np.array([[]]))\n",
    "        return (im, im2, )\n",
    "\n",
    "\n",
    "    # Animation function. Input i is the frame number of the animation, and is\n",
    "    # to be used for referencing how the data changes over time\n",
    "    def animate(i):\n",
    "        # Get the simulation history at time step i and set as the underlying\n",
    "        # data for the im object\n",
    "        ants_i = simulation_history[i][1]\n",
    "        pheromones_i = simulation_history[i][2]\n",
    "        im2.set_array(pheromones_i)\n",
    "        im.set_array(ants_i)\n",
    "\n",
    "        return (im, im2, )\n",
    "\n",
    "    # Suppress static matplotlib window\n",
    "    plt.close()\n",
    "    \n",
    "    # Use animation.FuncAnimation to put the animation together.\n",
    "    # frames controls the number of frames in the movie.\n",
    "    # interval controls the delay in milliseconds inbetween each frame\n",
    "    # blit optimizes the animation size by only storing the changes between\n",
    "    # frames instead of as a series of full plots\n",
    "    anim = animation.FuncAnimation(fig=fig, func=animate,\n",
    "                                   frames=len(simulation_history),\n",
    "                                   init_func=init, interval=500, blit=True);\n",
    "\n",
    "    return anim"
   ]
  },
  {
   "cell_type": "markdown",
   "metadata": {},
   "source": [
    "## Example Run\n",
    "\n",
    "Now that all the pieces are in place, let's run the simulation with the following initial parameters, which match the parameters suggested in the textbook."
   ]
  },
  {
   "cell_type": "code",
   "execution_count": 29,
   "metadata": {},
   "outputs": [],
   "source": [
    "number_time_steps = 30\n",
    "n = 17\n",
    "prob_ant = 0.1\n",
    "max_pheromone = 50\n",
    "trail_length = 17\n",
    "trail_start = [8, 0]\n",
    "evaporate = 1\n",
    "deposit = 2\n",
    "threshold = 0\n",
    "diffusion_rate = 0.01\n",
    "simulation_history = ants_simulation(\n",
    "    number_time_steps, n, prob_ant, max_pheromone,\n",
    "    trail_length, trail_start, evaporate, threshold, deposit,\n",
    "    diffusion_rate)"
   ]
  },
  {
   "cell_type": "markdown",
   "metadata": {},
   "source": [
    "We then build our animation:"
   ]
  },
  {
   "cell_type": "code",
   "execution_count": 30,
   "metadata": {},
   "outputs": [],
   "source": [
    "anim = ca_animation(simulation_history, dpi=120)"
   ]
  },
  {
   "cell_type": "markdown",
   "metadata": {},
   "source": [
    "And view it:"
   ]
  },
  {
   "cell_type": "code",
   "execution_count": null,
   "metadata": {},
   "outputs": [],
   "source": [
    "HTML(anim.to_html5_video())"
   ]
  }
 ],
 "metadata": {
  "kernelspec": {
   "display_name": "Python 3",
   "language": "python",
   "name": "python3"
  },
  "language_info": {
   "codemirror_mode": {
    "name": "ipython",
    "version": 3
   },
   "file_extension": ".py",
   "mimetype": "text/x-python",
   "name": "python",
   "nbconvert_exporter": "python",
   "pygments_lexer": "ipython3",
   "version": "3.6.5"
  },
  "latex_envs": {
   "LaTeX_envs_menu_present": true,
   "autocomplete": true,
   "bibliofile": "biblio.bib",
   "cite_by": "apalike",
   "current_citInitial": 1,
   "eqLabelWithNumbers": true,
   "eqNumInitial": 1,
   "hotkeys": {
    "equation": "Ctrl-E",
    "itemize": "Ctrl-I"
   },
   "labels_anchors": false,
   "latex_user_defs": false,
   "report_style_numbering": false,
   "user_envs_cfg": false
  },
  "name": "module_10-3_spreading_of_fire.ipynb",
  "varInspector": {
   "cols": {
    "lenName": 16,
    "lenType": 16,
    "lenVar": 40
   },
   "kernels_config": {
    "python": {
     "delete_cmd_postfix": "",
     "delete_cmd_prefix": "del ",
     "library": "var_list.py",
     "varRefreshCmd": "print(var_dic_list())"
    },
    "r": {
     "delete_cmd_postfix": ") ",
     "delete_cmd_prefix": "rm(",
     "library": "var_list.r",
     "varRefreshCmd": "cat(var_dic_list()) "
    }
   },
   "position": {
    "height": "750px",
    "left": "2190px",
    "right": "20px",
    "top": "121px",
    "width": "362px"
   },
   "types_to_exclude": [
    "module",
    "function",
    "builtin_function_or_method",
    "instance",
    "_Feature"
   ],
   "window_display": false
  }
 },
 "nbformat": 4,
 "nbformat_minor": 2
}
